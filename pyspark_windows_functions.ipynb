{
  "nbformat": 4,
  "nbformat_minor": 0,
  "metadata": {
    "colab": {
      "provenance": [],
      "authorship_tag": "ABX9TyN+O6j+C2SvYTT+e4Hp1iyq",
      "include_colab_link": true
    },
    "kernelspec": {
      "name": "python3",
      "display_name": "Python 3"
    },
    "language_info": {
      "name": "python"
    }
  },
  "cells": [
    {
      "cell_type": "markdown",
      "metadata": {
        "id": "view-in-github",
        "colab_type": "text"
      },
      "source": [
        "<a href=\"https://colab.research.google.com/github/Muralikrishna444/Data-Engineering-Projects/blob/main/pyspark_windows_functions.ipynb\" target=\"_parent\"><img src=\"https://colab.research.google.com/assets/colab-badge.svg\" alt=\"Open In Colab\"/></a>"
      ]
    },
    {
      "cell_type": "code",
      "execution_count": null,
      "metadata": {
        "id": "vQbuSN-uRUCp"
      },
      "outputs": [],
      "source": [
        "import pyspark\n",
        "from pyspark import SparkContext, SparkConf\n",
        "from pyspark.sql import SparkSession\n",
        "c = pyspark.SparkConf().setAppName(\"test_app\").setMaster(\"local\")\n",
        "sc = pyspark.SparkContext(conf = c)\n",
        "spark = SparkSession(sc)"
      ]
    },
    {
      "cell_type": "code",
      "source": [
        "from pyspark.sql.functions import *\n",
        "from pyspark.sql.window import Window"
      ],
      "metadata": {
        "id": "bXELcHf-B1up"
      },
      "execution_count": null,
      "outputs": []
    },
    {
      "cell_type": "code",
      "source": [
        "data = spark.read.csv(\"/content/Studentmarks.csv\", header = True)"
      ],
      "metadata": {
        "id": "8bWAgfSfB1sk"
      },
      "execution_count": null,
      "outputs": []
    },
    {
      "cell_type": "code",
      "source": [
        "data.show()"
      ],
      "metadata": {
        "colab": {
          "base_uri": "https://localhost:8080/"
        },
        "id": "pqXMJTYoB1qG",
        "outputId": "616a838a-1a51-4577-d74b-7021e7f90cf4"
      },
      "execution_count": null,
      "outputs": [
        {
          "output_type": "stream",
          "name": "stdout",
          "text": [
            "+---+--------+-----+\n",
            "| ID|    Name|Marks|\n",
            "+---+--------+-----+\n",
            "|  1|SANTHOSH|   75|\n",
            "|  2|   KIRAN|   90|\n",
            "|  3|   ARJUN|   77|\n",
            "|  4| KARTHIK|   97|\n",
            "|  5|   RAJEV|   65|\n",
            "|  6|   GOPAL|   65|\n",
            "|  7|   TARUN|   35|\n",
            "|  8|    DIYA|   99|\n",
            "+---+--------+-----+\n",
            "\n"
          ]
        }
      ]
    },
    {
      "cell_type": "code",
      "source": [
        "data.withColumn(\"rank\",rank().over(Window.orderBy(desc(\"Marks\"))) ).show()"
      ],
      "metadata": {
        "colab": {
          "base_uri": "https://localhost:8080/"
        },
        "id": "iXGKWZE0B1nf",
        "outputId": "82e4bad7-a8dc-4ecc-daf0-af8b3d45c47e"
      },
      "execution_count": null,
      "outputs": [
        {
          "output_type": "stream",
          "name": "stdout",
          "text": [
            "+---+--------+-----+----+\n",
            "| ID|    Name|Marks|rank|\n",
            "+---+--------+-----+----+\n",
            "|  8|    DIYA|   99|   1|\n",
            "|  4| KARTHIK|   97|   2|\n",
            "|  2|   KIRAN|   90|   3|\n",
            "|  3|   ARJUN|   77|   4|\n",
            "|  1|SANTHOSH|   75|   5|\n",
            "|  5|   RAJEV|   65|   6|\n",
            "|  6|   GOPAL|   65|   6|\n",
            "|  7|   TARUN|   35|   8|\n",
            "+---+--------+-----+----+\n",
            "\n"
          ]
        }
      ]
    },
    {
      "cell_type": "code",
      "source": [
        "# Another way"
      ],
      "metadata": {
        "id": "0DpGkQZWB1k-"
      },
      "execution_count": null,
      "outputs": []
    },
    {
      "cell_type": "code",
      "source": [
        "WindowsSpec = Window.orderBy(desc(\"Marks\"))"
      ],
      "metadata": {
        "id": "E2X7PoV3B1iQ"
      },
      "execution_count": null,
      "outputs": []
    },
    {
      "cell_type": "code",
      "source": [
        "data.withColumn(\"Rank\",rank().over(WindowsSpec)).show()"
      ],
      "metadata": {
        "colab": {
          "base_uri": "https://localhost:8080/"
        },
        "id": "a4E2YgH7B1fe",
        "outputId": "09202c6a-fded-4822-806a-5f253f294c2d"
      },
      "execution_count": null,
      "outputs": [
        {
          "output_type": "stream",
          "name": "stdout",
          "text": [
            "+---+--------+-----+----+\n",
            "| ID|    Name|Marks|Rank|\n",
            "+---+--------+-----+----+\n",
            "|  8|    DIYA|   99|   1|\n",
            "|  4| KARTHIK|   97|   2|\n",
            "|  2|   KIRAN|   90|   3|\n",
            "|  3|   ARJUN|   77|   4|\n",
            "|  1|SANTHOSH|   75|   5|\n",
            "|  5|   RAJEV|   65|   6|\n",
            "|  6|   GOPAL|   65|   6|\n",
            "|  7|   TARUN|   35|   8|\n",
            "+---+--------+-----+----+\n",
            "\n"
          ]
        }
      ]
    },
    {
      "cell_type": "code",
      "source": [
        "abc = Window.orderBy(desc(\"Marks\"))\n",
        "data.withColumn(\"Rank\",rank().over(WindowsSpec)).show()"
      ],
      "metadata": {
        "colab": {
          "base_uri": "https://localhost:8080/"
        },
        "id": "SNE_Vn99B1cz",
        "outputId": "c4c62888-cf17-4a7d-b43a-9b445470b34d"
      },
      "execution_count": null,
      "outputs": [
        {
          "output_type": "stream",
          "name": "stdout",
          "text": [
            "+---+--------+-----+----+\n",
            "| ID|    Name|Marks|Rank|\n",
            "+---+--------+-----+----+\n",
            "|  8|    DIYA|   99|   1|\n",
            "|  4| KARTHIK|   97|   2|\n",
            "|  2|   KIRAN|   90|   3|\n",
            "|  3|   ARJUN|   77|   4|\n",
            "|  1|SANTHOSH|   75|   5|\n",
            "|  5|   RAJEV|   65|   6|\n",
            "|  6|   GOPAL|   65|   6|\n",
            "|  7|   TARUN|   35|   8|\n",
            "+---+--------+-----+----+\n",
            "\n"
          ]
        }
      ]
    },
    {
      "cell_type": "code",
      "source": [],
      "metadata": {
        "id": "-ipPCWctMydw"
      },
      "execution_count": null,
      "outputs": []
    },
    {
      "cell_type": "code",
      "source": [
        "abc = Window.orderBy(desc(\"Marks\"))\n",
        "data.withColumn(\"Rank\",dense_rank().over(WindowsSpec)).show()"
      ],
      "metadata": {
        "colab": {
          "base_uri": "https://localhost:8080/"
        },
        "id": "37vAfC0lB1aC",
        "outputId": "0ccc5df1-f4b2-4798-84b5-8a2eaa7d291d"
      },
      "execution_count": null,
      "outputs": [
        {
          "output_type": "stream",
          "name": "stdout",
          "text": [
            "+---+--------+-----+----+\n",
            "| ID|    Name|Marks|Rank|\n",
            "+---+--------+-----+----+\n",
            "|  8|    DIYA|   99|   1|\n",
            "|  4| KARTHIK|   97|   2|\n",
            "|  2|   KIRAN|   90|   3|\n",
            "|  3|   ARJUN|   77|   4|\n",
            "|  1|SANTHOSH|   75|   5|\n",
            "|  5|   RAJEV|   65|   6|\n",
            "|  6|   GOPAL|   65|   6|\n",
            "|  7|   TARUN|   35|   7|\n",
            "+---+--------+-----+----+\n",
            "\n"
          ]
        }
      ]
    },
    {
      "cell_type": "code",
      "source": [
        "data = data.withColumn(\"Medium\", lit(\"default_value\"))"
      ],
      "metadata": {
        "id": "y8RoNrr2OX2Y"
      },
      "execution_count": null,
      "outputs": []
    },
    {
      "cell_type": "code",
      "source": [
        "abc = Window.partitionBy(\"Medium\").orderBy(desc(\"Marks\"))\n",
        "data.withColumn(\"Rank\", rank().over(abc)).show(20)"
      ],
      "metadata": {
        "colab": {
          "base_uri": "https://localhost:8080/"
        },
        "id": "z9NuTMEdB1Xl",
        "outputId": "95a0962c-66a2-4d13-f267-3bd4a975bae5"
      },
      "execution_count": null,
      "outputs": [
        {
          "output_type": "stream",
          "name": "stdout",
          "text": [
            "+---+--------+-----+-------------+----+\n",
            "| ID|    Name|Marks|       Medium|Rank|\n",
            "+---+--------+-----+-------------+----+\n",
            "|  8|    DIYA|   99|default_value|   1|\n",
            "|  4| KARTHIK|   97|default_value|   2|\n",
            "|  2|   KIRAN|   90|default_value|   3|\n",
            "|  3|   ARJUN|   77|default_value|   4|\n",
            "|  1|SANTHOSH|   75|default_value|   5|\n",
            "|  5|   RAJEV|   65|default_value|   6|\n",
            "|  6|   GOPAL|   65|default_value|   6|\n",
            "|  7|   TARUN|   35|default_value|   8|\n",
            "+---+--------+-----+-------------+----+\n",
            "\n"
          ]
        }
      ]
    },
    {
      "cell_type": "code",
      "source": [
        "data.withColumn(\"Rank\", rank().over(Window.partitionBy(\"Medium\").orderBy(desc(\"Marks\")))).show(20)"
      ],
      "metadata": {
        "colab": {
          "base_uri": "https://localhost:8080/"
        },
        "id": "mcbmQ3_RB1PX",
        "outputId": "9ec502e4-c2dc-49e0-fdb6-91a4b9863d67"
      },
      "execution_count": null,
      "outputs": [
        {
          "output_type": "stream",
          "name": "stdout",
          "text": [
            "+---+--------+-----+-------------+----+\n",
            "| ID|    Name|Marks|       Medium|Rank|\n",
            "+---+--------+-----+-------------+----+\n",
            "|  8|    DIYA|   99|default_value|   1|\n",
            "|  4| KARTHIK|   97|default_value|   2|\n",
            "|  2|   KIRAN|   90|default_value|   3|\n",
            "|  3|   ARJUN|   77|default_value|   4|\n",
            "|  1|SANTHOSH|   75|default_value|   5|\n",
            "|  5|   RAJEV|   65|default_value|   6|\n",
            "|  6|   GOPAL|   65|default_value|   6|\n",
            "|  7|   TARUN|   35|default_value|   8|\n",
            "+---+--------+-----+-------------+----+\n",
            "\n"
          ]
        }
      ]
    },
    {
      "cell_type": "code",
      "source": [
        "df = spark.read.csv(\"/content/SalesInfo.csv\", header = True, inferSchema = True)"
      ],
      "metadata": {
        "id": "YDlu_25wB1Mf"
      },
      "execution_count": null,
      "outputs": []
    },
    {
      "cell_type": "code",
      "source": [
        "df.show()"
      ],
      "metadata": {
        "colab": {
          "base_uri": "https://localhost:8080/"
        },
        "id": "o92qFPKZB1Jz",
        "outputId": "cd82cb7f-2366-4739-ec76-bcc3ba419c7d"
      },
      "execution_count": null,
      "outputs": [
        {
          "output_type": "stream",
          "name": "stdout",
          "text": [
            "+------+-------+\n",
            "|C_Year|T_Sales|\n",
            "+------+-------+\n",
            "|  2024|  25000|\n",
            "|  2016|  18000|\n",
            "|  2017|  23500|\n",
            "|  2015|  12500|\n",
            "|  2012|  17500|\n",
            "|  2013|  15000|\n",
            "+------+-------+\n",
            "\n"
          ]
        }
      ]
    },
    {
      "cell_type": "code",
      "source": [
        "df.createOrReplaceTempView(\"sales_Tb\")"
      ],
      "metadata": {
        "id": "zVj2JxNvB1HE"
      },
      "execution_count": null,
      "outputs": []
    },
    {
      "cell_type": "code",
      "source": [
        "spark.sql(\"select * from sales_Tb\").show()"
      ],
      "metadata": {
        "colab": {
          "base_uri": "https://localhost:8080/"
        },
        "id": "cMComgVXB1D7",
        "outputId": "00d3813a-3266-47fd-cd09-6678b5d44b64"
      },
      "execution_count": null,
      "outputs": [
        {
          "output_type": "stream",
          "name": "stdout",
          "text": [
            "+------+-------+\n",
            "|C_Year|T_Sales|\n",
            "+------+-------+\n",
            "|  2024|  25000|\n",
            "|  2016|  18000|\n",
            "|  2017|  23500|\n",
            "|  2015|  12500|\n",
            "|  2012|  17500|\n",
            "|  2013|  15000|\n",
            "+------+-------+\n",
            "\n"
          ]
        }
      ]
    },
    {
      "cell_type": "code",
      "source": [
        "WindowsRes = Window.orderBy(\"C_Year\")\n",
        "df.withColumn(\"PY_Sales\", lag(\"T_Sales\").over(WindowsRes)).show()"
      ],
      "metadata": {
        "colab": {
          "base_uri": "https://localhost:8080/"
        },
        "id": "7gESAwpiB019",
        "outputId": "0ced0ab0-ef18-4a07-8591-a43c39738c91"
      },
      "execution_count": null,
      "outputs": [
        {
          "output_type": "stream",
          "name": "stdout",
          "text": [
            "+------+-------+--------+\n",
            "|C_Year|T_Sales|PY_Sales|\n",
            "+------+-------+--------+\n",
            "|  2012|  17500|    NULL|\n",
            "|  2013|  15000|   17500|\n",
            "|  2015|  12500|   15000|\n",
            "|  2016|  18000|   12500|\n",
            "|  2017|  23500|   18000|\n",
            "|  2024|  25000|   23500|\n",
            "+------+-------+--------+\n",
            "\n"
          ]
        }
      ]
    },
    {
      "cell_type": "code",
      "source": [
        "# Or we can write\n",
        "df.withColumn(\"PY_Sales\", lag(\"T_Sales\").over(Window.orderBy(\"C_Year\"))).show()"
      ],
      "metadata": {
        "colab": {
          "base_uri": "https://localhost:8080/"
        },
        "id": "yByVEql-B0zq",
        "outputId": "97e77cfe-4058-4568-e57d-845ebd532fdc"
      },
      "execution_count": null,
      "outputs": [
        {
          "output_type": "stream",
          "name": "stdout",
          "text": [
            "+------+-------+--------+\n",
            "|C_Year|T_Sales|PY_Sales|\n",
            "+------+-------+--------+\n",
            "|  2012|  17500|    NULL|\n",
            "|  2013|  15000|   17500|\n",
            "|  2015|  12500|   15000|\n",
            "|  2016|  18000|   12500|\n",
            "|  2017|  23500|   18000|\n",
            "|  2024|  25000|   23500|\n",
            "+------+-------+--------+\n",
            "\n"
          ]
        }
      ]
    },
    {
      "cell_type": "code",
      "source": [
        "df1 = df.withColumn(\"PY_Sales\", lag(\"T_Sales\").over(Window.orderBy(\"C_Year\")))"
      ],
      "metadata": {
        "id": "cSFvV_lgB0xH"
      },
      "execution_count": null,
      "outputs": []
    },
    {
      "cell_type": "code",
      "source": [
        "df1.withColumn(\"YoY\", ((col(\"T_Sales\") - col(\"PY_Sales\"))/col(\"PY_Sales\")* 100)).show()"
      ],
      "metadata": {
        "colab": {
          "base_uri": "https://localhost:8080/"
        },
        "id": "mpYSXDd5SGWh",
        "outputId": "825301e4-f15d-4490-f238-99ef940498d7"
      },
      "execution_count": null,
      "outputs": [
        {
          "output_type": "stream",
          "name": "stdout",
          "text": [
            "+------+-------+--------+-------------------+\n",
            "|C_Year|T_Sales|PY_Sales|                YoY|\n",
            "+------+-------+--------+-------------------+\n",
            "|  2012|  17500|    NULL|               NULL|\n",
            "|  2013|  15000|   17500|-14.285714285714285|\n",
            "|  2015|  12500|   15000|-16.666666666666664|\n",
            "|  2016|  18000|   12500|               44.0|\n",
            "|  2017|  23500|   18000| 30.555555555555557|\n",
            "|  2024|  25000|   23500|  6.382978723404255|\n",
            "+------+-------+--------+-------------------+\n",
            "\n"
          ]
        }
      ]
    },
    {
      "cell_type": "code",
      "source": [
        "df2 = spark.read.csv(\"/content/SalesInfo2.csv\", header = True, inferSchema = True)"
      ],
      "metadata": {
        "id": "eL5zDXzBSGS5"
      },
      "execution_count": null,
      "outputs": []
    },
    {
      "cell_type": "code",
      "source": [
        "df2.show()"
      ],
      "metadata": {
        "colab": {
          "base_uri": "https://localhost:8080/"
        },
        "id": "60BLcwESSGRX",
        "outputId": "7d49eac6-03fd-440c-b1ab-bd5597f499c5"
      },
      "execution_count": null,
      "outputs": [
        {
          "output_type": "stream",
          "name": "stdout",
          "text": [
            "+------+----------+-------+\n",
            "|C_Year|Department|T_Sales|\n",
            "+------+----------+-------+\n",
            "|  2014| Marketing|  25000|\n",
            "|  2016| Marketing|  18000|\n",
            "|  2017| Marketing|  23500|\n",
            "|  2015| Marketing|  12500|\n",
            "|  2012| Marketing|  17500|\n",
            "|  2013| Marketing|  15000|\n",
            "|  2014|     Sales|  24000|\n",
            "|  2016|     Sales|  21000|\n",
            "|  2017|     Sales|  19000|\n",
            "|  2015|     Sales|  17000|\n",
            "|  2012|     Sales|  13500|\n",
            "|  2013|     Sales|  12000|\n",
            "+------+----------+-------+\n",
            "\n"
          ]
        }
      ]
    },
    {
      "cell_type": "code",
      "source": [
        "df2 = df.withColumn(\"PY_Sales\", lag(\"T_Sales\").over(Window.partitionBy(\"Department\").orderBy(\"C_Year\")))"
      ],
      "metadata": {
        "id": "DNUEgtdoSGP0"
      },
      "execution_count": null,
      "outputs": []
    },
    {
      "cell_type": "code",
      "source": [
        "df2.show()"
      ],
      "metadata": {
        "colab": {
          "base_uri": "https://localhost:8080/"
        },
        "id": "MoNaoTKnSGNR",
        "outputId": "48d02a7c-a3e3-43db-e676-825587719cde"
      },
      "execution_count": null,
      "outputs": [
        {
          "output_type": "stream",
          "name": "stdout",
          "text": [
            "+------+----------+-------+--------+\n",
            "|C_Year|Department|T_Sales|PY_Sales|\n",
            "+------+----------+-------+--------+\n",
            "|  2012| Marketing|  17500|    NULL|\n",
            "|  2013| Marketing|  15000|   17500|\n",
            "|  2014| Marketing|  25000|   15000|\n",
            "|  2015| Marketing|  12500|   25000|\n",
            "|  2016| Marketing|  18000|   12500|\n",
            "|  2017| Marketing|  23500|   18000|\n",
            "|  2012|     Sales|  13500|    NULL|\n",
            "|  2013|     Sales|  12000|   13500|\n",
            "|  2014|     Sales|  24000|   12000|\n",
            "|  2015|     Sales|  17000|   24000|\n",
            "|  2016|     Sales|  21000|   17000|\n",
            "|  2017|     Sales|  19000|   21000|\n",
            "+------+----------+-------+--------+\n",
            "\n"
          ]
        }
      ]
    },
    {
      "cell_type": "code",
      "source": [],
      "metadata": {
        "id": "poczLypTSGLc"
      },
      "execution_count": null,
      "outputs": []
    },
    {
      "cell_type": "code",
      "source": [],
      "metadata": {
        "id": "f7r6GkEBSGJA"
      },
      "execution_count": null,
      "outputs": []
    },
    {
      "cell_type": "code",
      "source": [],
      "metadata": {
        "id": "Yjwd6APDSGGs"
      },
      "execution_count": null,
      "outputs": []
    },
    {
      "cell_type": "code",
      "source": [],
      "metadata": {
        "id": "CN7JSPtQSGEX"
      },
      "execution_count": null,
      "outputs": []
    },
    {
      "cell_type": "code",
      "source": [],
      "metadata": {
        "id": "jzdTHgQsSGBv"
      },
      "execution_count": null,
      "outputs": []
    },
    {
      "cell_type": "code",
      "source": [],
      "metadata": {
        "id": "kUj-MknhSF_L"
      },
      "execution_count": null,
      "outputs": []
    },
    {
      "cell_type": "code",
      "source": [],
      "metadata": {
        "id": "em2_J6HsSF9A"
      },
      "execution_count": null,
      "outputs": []
    },
    {
      "cell_type": "code",
      "source": [],
      "metadata": {
        "id": "XStBj0j_SF59"
      },
      "execution_count": null,
      "outputs": []
    },
    {
      "cell_type": "code",
      "source": [],
      "metadata": {
        "id": "SsfwBy5hSF1m"
      },
      "execution_count": null,
      "outputs": []
    },
    {
      "cell_type": "code",
      "source": [],
      "metadata": {
        "id": "lfq-5W9iSFy3"
      },
      "execution_count": null,
      "outputs": []
    },
    {
      "cell_type": "code",
      "source": [],
      "metadata": {
        "id": "uHlNhrMuB0uP"
      },
      "execution_count": null,
      "outputs": []
    },
    {
      "cell_type": "code",
      "source": [],
      "metadata": {
        "id": "bWDt97D0B0q-"
      },
      "execution_count": null,
      "outputs": []
    }
  ]
}