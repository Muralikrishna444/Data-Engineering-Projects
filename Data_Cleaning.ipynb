{
  "nbformat": 4,
  "nbformat_minor": 0,
  "metadata": {
    "colab": {
      "provenance": [],
      "mount_file_id": "1ykucjTTYI5JLcTxXVuJQP5j7dZj8wyhN",
      "authorship_tag": "ABX9TyNaVoZMmMkJ56T64TpOY7p+",
      "include_colab_link": true
    },
    "kernelspec": {
      "name": "python3",
      "display_name": "Python 3"
    },
    "language_info": {
      "name": "python"
    }
  },
  "cells": [
    {
      "cell_type": "markdown",
      "metadata": {
        "id": "view-in-github",
        "colab_type": "text"
      },
      "source": [
        "<a href=\"https://colab.research.google.com/github/Muralikrishna444/Data-Engineering-Projects/blob/main/Data_Cleaning.ipynb\" target=\"_parent\"><img src=\"https://colab.research.google.com/assets/colab-badge.svg\" alt=\"Open In Colab\"/></a>"
      ]
    },
    {
      "cell_type": "code",
      "source": [
        "import pyspark\n",
        "from pyspark import SparkContext, SparkConf\n",
        "from pyspark.sql import SparkSession\n",
        "c = pyspark.SparkConf().setAppName(\"test_app\").setMaster(\"local\")\n",
        "sc = pyspark.SparkContext(conf = c)\n",
        "spark = SparkSession(sc)"
      ],
      "metadata": {
        "id": "JVtX7LTRmzCE"
      },
      "execution_count": null,
      "outputs": []
    },
    {
      "cell_type": "code",
      "source": [
        "from pyspark.sql.functions import *"
      ],
      "metadata": {
        "id": "89b8vcIKmy_5"
      },
      "execution_count": null,
      "outputs": []
    },
    {
      "cell_type": "code",
      "source": [
        "!pip install pyspark\n"
      ],
      "metadata": {
        "colab": {
          "base_uri": "https://localhost:8080/"
        },
        "id": "y3TnmQ3Jam5U",
        "outputId": "8971fd74-3bb5-4ad6-f497-4e94fde445d9"
      },
      "execution_count": null,
      "outputs": [
        {
          "output_type": "stream",
          "name": "stdout",
          "text": [
            "Requirement already satisfied: pyspark in /usr/local/lib/python3.10/dist-packages (3.5.4)\n",
            "Requirement already satisfied: py4j==0.10.9.7 in /usr/local/lib/python3.10/dist-packages (from pyspark) (0.10.9.7)\n"
          ]
        }
      ]
    },
    {
      "cell_type": "code",
      "source": [
        "from pyspark.sql import SparkSession\n",
        "\n",
        "# Create a Spark session\n",
        "spark = SparkSession.builder \\\n",
        "    .appName(\"CSV Reader\") \\\n",
        "    .getOrCreate()\n"
      ],
      "metadata": {
        "id": "ykrjKmsDam2D"
      },
      "execution_count": null,
      "outputs": []
    },
    {
      "cell_type": "code",
      "source": [
        "org_df = df"
      ],
      "metadata": {
        "id": "OPqgGwlo5bu2"
      },
      "execution_count": null,
      "outputs": []
    },
    {
      "cell_type": "code",
      "source": [
        "df = spark.read.csv(\"/content/drive/MyDrive/Colab Notebooks/accepted_2007_to_2018Q4.csv\", header=True, inferSchema=True)"
      ],
      "metadata": {
        "id": "QP6waR0vESwV"
      },
      "execution_count": null,
      "outputs": []
    },
    {
      "cell_type": "code",
      "source": [
        "org_df = df"
      ],
      "metadata": {
        "id": "ZC5oxK-SESkT"
      },
      "execution_count": null,
      "outputs": []
    },
    {
      "cell_type": "code",
      "source": [
        "df.show(5)"
      ],
      "metadata": {
        "colab": {
          "base_uri": "https://localhost:8080/"
        },
        "id": "bVnxRmmdamxx",
        "outputId": "826d29ac-2548-4a24-b6b4-f4ff0f4fb247"
      },
      "execution_count": null,
      "outputs": [
        {
          "output_type": "stream",
          "name": "stdout",
          "text": [
            "+--------+---------+---------+-----------+---------------+----------+--------+-----------+-----+---------+--------------------+----------+--------------+----------+-------------------+--------+-----------+----------+--------------------+----+------------------+------------------+--------+----------+-----+-----------+----------------+--------------+---------------+--------------+----------------------+----------------------+--------+-------+---------+----------+---------+-------------------+---------+-------------+------------------+---------------+---------------+-------------+------------------+----------+-----------------------+------------+---------------+------------+------------------+--------------------+-------------------+--------------------------+---------------------------+-----------+----------------+----------------+---------+-------------------------+--------------+------------+-----------+-----------+-----------+-----------+-----------+------------------+------------+-------+-----------+-----------+----------+--------+----------------+------+-----------+------------+--------------------+-----------+--------------+-------+------------------------+-----------+------------------+--------------------+---------------------+--------------+--------+--------------------+------------------------+---------------------+------------------------------+---------------------+--------------+---------------+-----------+---------+---------+-------------+-------------+-------------------+--------+----------------+------------+------------------+------------------+--------------+----------------+--------------------+---------+---------------+-----------------+--------------+--------------------------+---------------+----------------------+-----------------------+------------------------+----------------------+----------------+----------------+------------------+-------------------+---------------------+--------------------------------+----------------------------------+-----------------------------------+-------------+-------------+---------------+---------------+-------------+---------------+-------------------+-----------------+-----------------------+---------------+------------+--------------------+------------------------------------------+------------------------------+----------------------------+-------------------+--------------------+-------------------------+-----------------+---------------+-----------------+---------------------+---------------+\n",
            "|      id|member_id|loan_amnt|funded_amnt|funded_amnt_inv|      term|int_rate|installment|grade|sub_grade|           emp_title|emp_length|home_ownership|annual_inc|verification_status| issue_d|loan_status|pymnt_plan|                 url|desc|           purpose|             title|zip_code|addr_state|  dti|delinq_2yrs|earliest_cr_line|fico_range_low|fico_range_high|inq_last_6mths|mths_since_last_delinq|mths_since_last_record|open_acc|pub_rec|revol_bal|revol_util|total_acc|initial_list_status|out_prncp|out_prncp_inv|       total_pymnt|total_pymnt_inv|total_rec_prncp|total_rec_int|total_rec_late_fee|recoveries|collection_recovery_fee|last_pymnt_d|last_pymnt_amnt|next_pymnt_d|last_credit_pull_d|last_fico_range_high|last_fico_range_low|collections_12_mths_ex_med|mths_since_last_major_derog|policy_code|application_type|annual_inc_joint|dti_joint|verification_status_joint|acc_now_delinq|tot_coll_amt|tot_cur_bal|open_acc_6m|open_act_il|open_il_12m|open_il_24m|mths_since_rcnt_il|total_bal_il|il_util|open_rv_12m|open_rv_24m|max_bal_bc|all_util|total_rev_hi_lim|inq_fi|total_cu_tl|inq_last_12m|acc_open_past_24mths|avg_cur_bal|bc_open_to_buy|bc_util|chargeoff_within_12_mths|delinq_amnt|mo_sin_old_il_acct|mo_sin_old_rev_tl_op|mo_sin_rcnt_rev_tl_op|mo_sin_rcnt_tl|mort_acc|mths_since_recent_bc|mths_since_recent_bc_dlq|mths_since_recent_inq|mths_since_recent_revol_delinq|num_accts_ever_120_pd|num_actv_bc_tl|num_actv_rev_tl|num_bc_sats|num_bc_tl|num_il_tl|num_op_rev_tl|num_rev_accts|num_rev_tl_bal_gt_0|num_sats|num_tl_120dpd_2m|num_tl_30dpd|num_tl_90g_dpd_24m|num_tl_op_past_12m|pct_tl_nvr_dlq|percent_bc_gt_75|pub_rec_bankruptcies|tax_liens|tot_hi_cred_lim|total_bal_ex_mort|total_bc_limit|total_il_high_credit_limit|revol_bal_joint|sec_app_fico_range_low|sec_app_fico_range_high|sec_app_earliest_cr_line|sec_app_inq_last_6mths|sec_app_mort_acc|sec_app_open_acc|sec_app_revol_util|sec_app_open_act_il|sec_app_num_rev_accts|sec_app_chargeoff_within_12_mths|sec_app_collections_12_mths_ex_med|sec_app_mths_since_last_major_derog|hardship_flag|hardship_type|hardship_reason|hardship_status|deferral_term|hardship_amount|hardship_start_date|hardship_end_date|payment_plan_start_date|hardship_length|hardship_dpd|hardship_loan_status|orig_projected_additional_accrued_interest|hardship_payoff_balance_amount|hardship_last_payment_amount|disbursement_method|debt_settlement_flag|debt_settlement_flag_date|settlement_status|settlement_date|settlement_amount|settlement_percentage|settlement_term|\n",
            "+--------+---------+---------+-----------+---------------+----------+--------+-----------+-----+---------+--------------------+----------+--------------+----------+-------------------+--------+-----------+----------+--------------------+----+------------------+------------------+--------+----------+-----+-----------+----------------+--------------+---------------+--------------+----------------------+----------------------+--------+-------+---------+----------+---------+-------------------+---------+-------------+------------------+---------------+---------------+-------------+------------------+----------+-----------------------+------------+---------------+------------+------------------+--------------------+-------------------+--------------------------+---------------------------+-----------+----------------+----------------+---------+-------------------------+--------------+------------+-----------+-----------+-----------+-----------+-----------+------------------+------------+-------+-----------+-----------+----------+--------+----------------+------+-----------+------------+--------------------+-----------+--------------+-------+------------------------+-----------+------------------+--------------------+---------------------+--------------+--------+--------------------+------------------------+---------------------+------------------------------+---------------------+--------------+---------------+-----------+---------+---------+-------------+-------------+-------------------+--------+----------------+------------+------------------+------------------+--------------+----------------+--------------------+---------+---------------+-----------------+--------------+--------------------------+---------------+----------------------+-----------------------+------------------------+----------------------+----------------+----------------+------------------+-------------------+---------------------+--------------------------------+----------------------------------+-----------------------------------+-------------+-------------+---------------+---------------+-------------+---------------+-------------------+-----------------+-----------------------+---------------+------------+--------------------+------------------------------------------+------------------------------+----------------------------+-------------------+--------------------+-------------------------+-----------------+---------------+-----------------+---------------------+---------------+\n",
            "|68407277|     NULL|   3600.0|     3600.0|         3600.0| 36 months|   13.99|     123.03|    C|       C4|             leadman| 10+ years|      MORTGAGE|   55000.0|       Not Verified|Dec-2015| Fully Paid|         n|https://lendingcl...|NULL|debt_consolidation|Debt consolidation|   190xx|        PA| 5.91|        0.0|        Aug-2003|         675.0|          679.0|           1.0|                  30.0|                  NULL|     7.0|    0.0|   2765.0|      29.7|     13.0|                  w|      0.0|          0.0| 4421.723916800001|        4421.72|         3600.0|       821.72|               0.0|       0.0|                    0.0|    Jan-2019|         122.67|        NULL|          Mar-2019|               564.0|              560.0|                       0.0|                       30.0|        1.0|      Individual|            NULL|     NULL|                     NULL|           0.0|       722.0|   144904.0|        2.0|        2.0|        0.0|        1.0|              21.0|      4981.0|   36.0|        3.0|        3.0|     722.0|    34.0|          9300.0|   3.0|        1.0|         4.0|                 4.0|    20701.0|        1506.0|   37.2|                     0.0|        0.0|             148.0|               128.0|                  3.0|           3.0|     1.0|                 4.0|                    69.0|                  4.0|                          69.0|                  2.0|           2.0|            4.0|        2.0|      5.0|      3.0|          4.0|          9.0|                4.0|     7.0|             0.0|         0.0|               0.0|               3.0|          76.9|             0.0|                 0.0|      0.0|       178050.0|           7746.0|        2400.0|                   13734.0|           NULL|                  NULL|                   NULL|                    NULL|                  NULL|            NULL|            NULL|              NULL|               NULL|                 NULL|                            NULL|                              NULL|                               NULL|            N|         NULL|           NULL|           NULL|         NULL|           NULL|               NULL|             NULL|                   NULL|           NULL|        NULL|                NULL|                                      NULL|                          NULL|                        NULL|               Cash|                   N|                     NULL|             NULL|           NULL|             NULL|                 NULL|           NULL|\n",
            "|68355089|     NULL|  24700.0|    24700.0|        24700.0| 36 months|   11.99|     820.28|    C|       C1|            Engineer| 10+ years|      MORTGAGE|   65000.0|       Not Verified|Dec-2015| Fully Paid|         n|https://lendingcl...|NULL|    small_business|          Business|   577xx|        SD|16.06|        1.0|        Dec-1999|         715.0|          719.0|           4.0|                   6.0|                  NULL|    22.0|    0.0|  21470.0|      19.2|     38.0|                  w|      0.0|          0.0|          25679.66|       25679.66|        24700.0|       979.66|               0.0|       0.0|                    0.0|    Jun-2016|         926.35|        NULL|          Mar-2019|               699.0|              695.0|                       0.0|                       NULL|        1.0|      Individual|            NULL|     NULL|                     NULL|           0.0|         0.0|   204396.0|        1.0|        1.0|        0.0|        1.0|              19.0|     18005.0|   73.0|        2.0|        3.0|    6472.0|    29.0|        111800.0|   0.0|        0.0|         6.0|                 4.0|     9733.0|       57830.0|   27.1|                     0.0|        0.0|             113.0|               192.0|                  2.0|           2.0|     4.0|                 2.0|                    NULL|                  0.0|                           6.0|                  0.0|           5.0|            5.0|       13.0|     17.0|      6.0|         20.0|         27.0|                5.0|    22.0|             0.0|         0.0|               0.0|               2.0|          97.4|             7.7|                 0.0|      0.0|       314017.0|          39475.0|       79300.0|                   24667.0|           NULL|                  NULL|                   NULL|                    NULL|                  NULL|            NULL|            NULL|              NULL|               NULL|                 NULL|                            NULL|                              NULL|                               NULL|            N|         NULL|           NULL|           NULL|         NULL|           NULL|               NULL|             NULL|                   NULL|           NULL|        NULL|                NULL|                                      NULL|                          NULL|                        NULL|               Cash|                   N|                     NULL|             NULL|           NULL|             NULL|                 NULL|           NULL|\n",
            "|68341763|     NULL|  20000.0|    20000.0|        20000.0| 60 months|   10.78|     432.66|    B|       B4|        truck driver| 10+ years|      MORTGAGE|   63000.0|       Not Verified|Dec-2015| Fully Paid|         n|https://lendingcl...|NULL|  home_improvement|              NULL|   605xx|        IL|10.78|        0.0|        Aug-2000|         695.0|          699.0|           0.0|                  NULL|                  NULL|     6.0|    0.0|   7869.0|      56.2|     18.0|                  w|      0.0|          0.0|22705.924293878397|       22705.92|        20000.0|      2705.92|               0.0|       0.0|                    0.0|    Jun-2017|        15813.3|        NULL|          Mar-2019|               704.0|              700.0|                       0.0|                       NULL|        1.0|       Joint App|         71000.0|    13.85|             Not Verified|           0.0|         0.0|   189699.0|        0.0|        1.0|        0.0|        4.0|              19.0|     10827.0|   73.0|        0.0|        2.0|    2081.0|    65.0|         14000.0|   2.0|        5.0|         1.0|                 6.0|    31617.0|        2737.0|   55.9|                     0.0|        0.0|             125.0|               184.0|                 14.0|          14.0|     5.0|               101.0|                    NULL|                 10.0|                          NULL|                  0.0|           2.0|            3.0|        2.0|      4.0|      6.0|          4.0|          7.0|                3.0|     6.0|             0.0|         0.0|               0.0|               0.0|         100.0|            50.0|                 0.0|      0.0|       218418.0|          18696.0|        6200.0|                   14877.0|           NULL|                  NULL|                   NULL|                    NULL|                  NULL|            NULL|            NULL|              NULL|               NULL|                 NULL|                            NULL|                              NULL|                               NULL|            N|         NULL|           NULL|           NULL|         NULL|           NULL|               NULL|             NULL|                   NULL|           NULL|        NULL|                NULL|                                      NULL|                          NULL|                        NULL|               Cash|                   N|                     NULL|             NULL|           NULL|             NULL|                 NULL|           NULL|\n",
            "|66310712|     NULL|  35000.0|    35000.0|        35000.0| 60 months|   14.85|      829.9|    C|       C5|Information Syste...| 10+ years|      MORTGAGE|  110000.0|    Source Verified|Dec-2015|    Current|         n|https://lendingcl...|NULL|debt_consolidation|Debt consolidation|   076xx|        NJ|17.06|        0.0|        Sep-2008|         785.0|          789.0|           0.0|                  NULL|                  NULL|    13.0|    0.0|   7802.0|      11.6|     17.0|                  w| 15897.65|     15897.65|          31464.01|       31464.01|       19102.35|     12361.66|               0.0|       0.0|                    0.0|    Feb-2019|          829.9|    Apr-2019|          Mar-2019|               679.0|              675.0|                       0.0|                       NULL|        1.0|      Individual|            NULL|     NULL|                     NULL|           0.0|         0.0|   301500.0|        1.0|        1.0|        0.0|        1.0|              23.0|     12609.0|   70.0|        1.0|        1.0|    6987.0|    45.0|         67300.0|   0.0|        1.0|         0.0|                 2.0|    23192.0|       54962.0|   12.1|                     0.0|        0.0|              36.0|                87.0|                  2.0|           2.0|     1.0|                 2.0|                    NULL|                 NULL|                          NULL|                  0.0|           4.0|            5.0|        8.0|     10.0|      2.0|         10.0|         13.0|                5.0|    13.0|             0.0|         0.0|               0.0|               1.0|         100.0|             0.0|                 0.0|      0.0|       381215.0|          52226.0|       62500.0|                   18000.0|           NULL|                  NULL|                   NULL|                    NULL|                  NULL|            NULL|            NULL|              NULL|               NULL|                 NULL|                            NULL|                              NULL|                               NULL|            N|         NULL|           NULL|           NULL|         NULL|           NULL|               NULL|             NULL|                   NULL|           NULL|        NULL|                NULL|                                      NULL|                          NULL|                        NULL|               Cash|                   N|                     NULL|             NULL|           NULL|             NULL|                 NULL|           NULL|\n",
            "|68476807|     NULL|  10400.0|    10400.0|        10400.0| 60 months|   22.45|     289.91|    F|       F1| Contract Specialist|   3 years|      MORTGAGE|  104433.0|    Source Verified|Dec-2015| Fully Paid|         n|https://lendingcl...|NULL|    major_purchase|    Major purchase|   174xx|        PA|25.37|        1.0|        Jun-1998|         695.0|          699.0|           3.0|                  12.0|                  NULL|    12.0|    0.0|  21929.0|      64.5|     35.0|                  w|      0.0|          0.0|           11740.5|        11740.5|        10400.0|       1340.5|               0.0|       0.0|                    0.0|    Jul-2016|       10128.96|        NULL|          Mar-2018|               704.0|              700.0|                       0.0|                       NULL|        1.0|      Individual|            NULL|     NULL|                     NULL|           0.0|         0.0|   331730.0|        1.0|        3.0|        0.0|        3.0|              14.0|     73839.0|   84.0|        4.0|        7.0|    9702.0|    78.0|         34000.0|   2.0|        1.0|         3.0|                10.0|    27644.0|        4567.0|   77.5|                     0.0|        0.0|             128.0|               210.0|                  4.0|           4.0|     6.0|                 4.0|                    12.0|                  1.0|                          12.0|                  0.0|           4.0|            6.0|        5.0|      9.0|     10.0|          7.0|         19.0|                6.0|    12.0|             0.0|         0.0|               0.0|               4.0|          96.6|            60.0|                 0.0|      0.0|       439570.0|          95768.0|       20300.0|                   88097.0|           NULL|                  NULL|                   NULL|                    NULL|                  NULL|            NULL|            NULL|              NULL|               NULL|                 NULL|                            NULL|                              NULL|                               NULL|            N|         NULL|           NULL|           NULL|         NULL|           NULL|               NULL|             NULL|                   NULL|           NULL|        NULL|                NULL|                                      NULL|                          NULL|                        NULL|               Cash|                   N|                     NULL|             NULL|           NULL|             NULL|                 NULL|           NULL|\n",
            "+--------+---------+---------+-----------+---------------+----------+--------+-----------+-----+---------+--------------------+----------+--------------+----------+-------------------+--------+-----------+----------+--------------------+----+------------------+------------------+--------+----------+-----+-----------+----------------+--------------+---------------+--------------+----------------------+----------------------+--------+-------+---------+----------+---------+-------------------+---------+-------------+------------------+---------------+---------------+-------------+------------------+----------+-----------------------+------------+---------------+------------+------------------+--------------------+-------------------+--------------------------+---------------------------+-----------+----------------+----------------+---------+-------------------------+--------------+------------+-----------+-----------+-----------+-----------+-----------+------------------+------------+-------+-----------+-----------+----------+--------+----------------+------+-----------+------------+--------------------+-----------+--------------+-------+------------------------+-----------+------------------+--------------------+---------------------+--------------+--------+--------------------+------------------------+---------------------+------------------------------+---------------------+--------------+---------------+-----------+---------+---------+-------------+-------------+-------------------+--------+----------------+------------+------------------+------------------+--------------+----------------+--------------------+---------+---------------+-----------------+--------------+--------------------------+---------------+----------------------+-----------------------+------------------------+----------------------+----------------+----------------+------------------+-------------------+---------------------+--------------------------------+----------------------------------+-----------------------------------+-------------+-------------+---------------+---------------+-------------+---------------+-------------------+-----------------+-----------------------+---------------+------------+--------------------+------------------------------------------+------------------------------+----------------------------+-------------------+--------------------+-------------------------+-----------------+---------------+-----------------+---------------------+---------------+\n",
            "only showing top 5 rows\n",
            "\n"
          ]
        }
      ]
    },
    {
      "cell_type": "code",
      "source": [
        "df.count(),len(df.columns)"
      ],
      "metadata": {
        "colab": {
          "base_uri": "https://localhost:8080/"
        },
        "id": "ILR_UY3Tmyxd",
        "outputId": "7d0c7346-b5bb-4243-f12a-26b97858260f"
      },
      "execution_count": null,
      "outputs": [
        {
          "output_type": "execute_result",
          "data": {
            "text/plain": [
              "(2260701, 151)"
            ]
          },
          "metadata": {},
          "execution_count": 34
        }
      ]
    },
    {
      "cell_type": "code",
      "source": [
        "columns_A7 =[\"id\",\"member_id\",\"loan_amnt\",\"funded_amnt\",\"funded_amnt_inv\",\"term\", \"int_rate\"]             # first method\n",
        "columns_B7 =[\"installment\",\"grade\",\"sub_grade\",\"emp_title\",\"emp_length\",\"home_ownership\",\"annual_inc\"]\n",
        "columns_C7 =[\"verification_status\",\"issue_d\",\"loan_status\",\"pymnt_plan\",\"url\",\"desc\", \"purpose\"]\n",
        "columns_D7 =[\"title\",\"zip_code\",\"addr_state\",\"dti\",\"delinq_2yrs\",\"earliest_cr_line\", \"fico_range_low\"]"
      ],
      "metadata": {
        "id": "pFuVHUTNmyuw"
      },
      "execution_count": null,
      "outputs": []
    },
    {
      "cell_type": "code",
      "source": [
        "df .select(columns_A7).show(5,False)"
      ],
      "metadata": {
        "colab": {
          "base_uri": "https://localhost:8080/"
        },
        "id": "g9qIl_O2mys-",
        "outputId": "09a14dd9-0e0b-43a9-c6f6-0be2e04daf7d"
      },
      "execution_count": null,
      "outputs": [
        {
          "output_type": "stream",
          "name": "stdout",
          "text": [
            "+--------+---------+---------+-----------+---------------+----------+--------+\n",
            "|id      |member_id|loan_amnt|funded_amnt|funded_amnt_inv|term      |int_rate|\n",
            "+--------+---------+---------+-----------+---------------+----------+--------+\n",
            "|68407277|NULL     |3600.0   |3600.0     |3600.0         | 36 months|13.99   |\n",
            "|68355089|NULL     |24700.0  |24700.0    |24700.0        | 36 months|11.99   |\n",
            "|68341763|NULL     |20000.0  |20000.0    |20000.0        | 60 months|10.78   |\n",
            "|66310712|NULL     |35000.0  |35000.0    |35000.0        | 60 months|14.85   |\n",
            "|68476807|NULL     |10400.0  |10400.0    |10400.0        | 60 months|22.45   |\n",
            "+--------+---------+---------+-----------+---------------+----------+--------+\n",
            "only showing top 5 rows\n",
            "\n"
          ]
        }
      ]
    },
    {
      "cell_type": "code",
      "source": [
        "columns_A7 = [i for i in df.columns[0:7]] # second method"
      ],
      "metadata": {
        "id": "MUbVn6eLmyrb"
      },
      "execution_count": null,
      "outputs": []
    },
    {
      "cell_type": "code",
      "source": [
        "df.select(columns_A7).show(5,False)"
      ],
      "metadata": {
        "colab": {
          "base_uri": "https://localhost:8080/"
        },
        "id": "Qvpvs7_mmyoy",
        "outputId": "59602504-17c4-46ba-d6ce-eebd6e8a4774"
      },
      "execution_count": null,
      "outputs": [
        {
          "output_type": "stream",
          "name": "stdout",
          "text": [
            "+--------+---------+---------+-----------+---------------+----------+--------+\n",
            "|id      |member_id|loan_amnt|funded_amnt|funded_amnt_inv|term      |int_rate|\n",
            "+--------+---------+---------+-----------+---------------+----------+--------+\n",
            "|68407277|NULL     |3600.0   |3600.0     |3600.0         | 36 months|13.99   |\n",
            "|68355089|NULL     |24700.0  |24700.0    |24700.0        | 36 months|11.99   |\n",
            "|68341763|NULL     |20000.0  |20000.0    |20000.0        | 60 months|10.78   |\n",
            "|66310712|NULL     |35000.0  |35000.0    |35000.0        | 60 months|14.85   |\n",
            "|68476807|NULL     |10400.0  |10400.0    |10400.0        | 60 months|22.45   |\n",
            "+--------+---------+---------+-----------+---------------+----------+--------+\n",
            "only showing top 5 rows\n",
            "\n"
          ]
        }
      ]
    },
    {
      "cell_type": "code",
      "source": [
        "from pyspark.sql.functions import col\n"
      ],
      "metadata": {
        "id": "S_FjzealgKen"
      },
      "execution_count": null,
      "outputs": []
    },
    {
      "cell_type": "code",
      "source": [
        "df.select([col(df.columns[i]) for i in range(0,7)]).show(5,False) # third Method"
      ],
      "metadata": {
        "colab": {
          "base_uri": "https://localhost:8080/"
        },
        "id": "jqk14gjimyly",
        "outputId": "8cb5e21a-cbf0-47dd-e554-dabae3c9c87e"
      },
      "execution_count": null,
      "outputs": [
        {
          "output_type": "stream",
          "name": "stdout",
          "text": [
            "+--------+---------+---------+-----------+---------------+----------+--------+\n",
            "|id      |member_id|loan_amnt|funded_amnt|funded_amnt_inv|term      |int_rate|\n",
            "+--------+---------+---------+-----------+---------------+----------+--------+\n",
            "|68407277|NULL     |3600.0   |3600.0     |3600.0         | 36 months|13.99   |\n",
            "|68355089|NULL     |24700.0  |24700.0    |24700.0        | 36 months|11.99   |\n",
            "|68341763|NULL     |20000.0  |20000.0    |20000.0        | 60 months|10.78   |\n",
            "|66310712|NULL     |35000.0  |35000.0    |35000.0        | 60 months|14.85   |\n",
            "|68476807|NULL     |10400.0  |10400.0    |10400.0        | 60 months|22.45   |\n",
            "+--------+---------+---------+-----------+---------------+----------+--------+\n",
            "only showing top 5 rows\n",
            "\n"
          ]
        }
      ]
    },
    {
      "cell_type": "code",
      "source": [
        "# Check for missing values"
      ],
      "metadata": {
        "id": "1Dih93-Wmyir"
      },
      "execution_count": null,
      "outputs": []
    },
    {
      "cell_type": "code",
      "source": [
        "df.filter(col('id').isNull()).count()"
      ],
      "metadata": {
        "colab": {
          "base_uri": "https://localhost:8080/"
        },
        "id": "oISdp25-mygQ",
        "outputId": "1b0e747c-3b72-41bb-a8d8-85a04f57e09c"
      },
      "execution_count": null,
      "outputs": [
        {
          "output_type": "execute_result",
          "data": {
            "text/plain": [
              "0"
            ]
          },
          "metadata": {},
          "execution_count": 40
        }
      ]
    },
    {
      "cell_type": "code",
      "source": [
        "df.filter(col('member_id').isNull()).count()"
      ],
      "metadata": {
        "colab": {
          "base_uri": "https://localhost:8080/"
        },
        "id": "ePhIjWt3mydj",
        "outputId": "7492865a-bb87-4210-aad4-97ed769f1416"
      },
      "execution_count": null,
      "outputs": [
        {
          "output_type": "execute_result",
          "data": {
            "text/plain": [
              "2260701"
            ]
          },
          "metadata": {},
          "execution_count": 34
        }
      ]
    },
    {
      "cell_type": "code",
      "source": [
        "df.filter(col('loan_amnt').isNull()).count()"
      ],
      "metadata": {
        "colab": {
          "base_uri": "https://localhost:8080/"
        },
        "id": "EllE_zfpmyY1",
        "outputId": "8a61534c-45c0-4eb9-bcf1-1464da36fce9"
      },
      "execution_count": null,
      "outputs": [
        {
          "output_type": "execute_result",
          "data": {
            "text/plain": [
              "33"
            ]
          },
          "metadata": {},
          "execution_count": 35
        }
      ]
    },
    {
      "cell_type": "code",
      "source": [
        "def check_missing_percent(df,cl):\n",
        "  a = df.filter(col(cl).isNull()).count()\n",
        "  b = df.count()\n",
        "  c = (a/b)*100\n",
        "  return c"
      ],
      "metadata": {
        "id": "1EL3vrD8myUC"
      },
      "execution_count": null,
      "outputs": []
    },
    {
      "cell_type": "code",
      "source": [
        "check_missing_percent(df,'id')"
      ],
      "metadata": {
        "colab": {
          "base_uri": "https://localhost:8080/"
        },
        "id": "wZ5PZW2hmyRc",
        "outputId": "993a0d0f-fe0a-48ac-ddba-f756f4328ee7"
      },
      "execution_count": null,
      "outputs": [
        {
          "output_type": "execute_result",
          "data": {
            "text/plain": [
              "0.0"
            ]
          },
          "metadata": {},
          "execution_count": 63
        }
      ]
    },
    {
      "cell_type": "code",
      "source": [
        "check_missing_percent(df,'funded_amnt_inv')"
      ],
      "metadata": {
        "colab": {
          "base_uri": "https://localhost:8080/"
        },
        "id": "hkN2B8G_myPo",
        "outputId": "4decb947-2d68-4e3a-eb08-9598d9f3842c"
      },
      "execution_count": null,
      "outputs": [
        {
          "output_type": "execute_result",
          "data": {
            "text/plain": [
              "0.0014597242182845054"
            ]
          },
          "metadata": {},
          "execution_count": 38
        }
      ]
    },
    {
      "cell_type": "code",
      "source": [
        "# Current santhosh Project using code"
      ],
      "metadata": {
        "id": "dtJhsWzimyNy"
      },
      "execution_count": null,
      "outputs": []
    },
    {
      "cell_type": "code",
      "source": [
        "def check_missing_v1(df, lst_cl):\n",
        "  missing_values = {}\n",
        "  for i in lst_cl:\n",
        "    a = df.filter(col(i).isNull()).count()\n",
        "    missing_values[i] = a\n",
        "  return ({\"missing_values: \":missing_values})"
      ],
      "metadata": {
        "id": "mpmbA2ivmyMZ"
      },
      "execution_count": null,
      "outputs": []
    },
    {
      "cell_type": "code",
      "source": [
        "check_missing_v1(df,columns_A7)"
      ],
      "metadata": {
        "colab": {
          "base_uri": "https://localhost:8080/"
        },
        "id": "CCsNXkXqmyKQ",
        "outputId": "f732e4e4-d970-4b66-ba94-b40700447cc8"
      },
      "execution_count": null,
      "outputs": [
        {
          "output_type": "execute_result",
          "data": {
            "text/plain": [
              "{'missing_values: ': {'id': 0,\n",
              "  'member_id': 2260701,\n",
              "  'loan_amnt': 33,\n",
              "  'funded_amnt': 33,\n",
              "  'funded_amnt_inv': 33,\n",
              "  'term': 33,\n",
              "  'int_rate': 33}}"
            ]
          },
          "metadata": {},
          "execution_count": 40
        }
      ]
    },
    {
      "cell_type": "code",
      "source": [
        "check_missing_v1(df,df.columns)"
      ],
      "metadata": {
        "id": "kKht5LNcmyGJ",
        "colab": {
          "base_uri": "https://localhost:8080/",
          "height": 462
        },
        "outputId": "3a0f2960-6990-43cd-dac3-7f6eb86a5241"
      },
      "execution_count": null,
      "outputs": [
        {
          "output_type": "stream",
          "name": "stderr",
          "text": [
            "ERROR:root:KeyboardInterrupt while sending command.\n",
            "Traceback (most recent call last):\n",
            "  File \"/usr/local/lib/python3.10/dist-packages/py4j/java_gateway.py\", line 1038, in send_command\n",
            "    response = connection.send_command(command)\n",
            "  File \"/usr/local/lib/python3.10/dist-packages/py4j/clientserver.py\", line 511, in send_command\n",
            "    answer = smart_decode(self.stream.readline()[:-1])\n",
            "  File \"/usr/lib/python3.10/socket.py\", line 705, in readinto\n",
            "    return self._sock.recv_into(b)\n",
            "KeyboardInterrupt\n"
          ]
        },
        {
          "output_type": "error",
          "ename": "KeyboardInterrupt",
          "evalue": "",
          "traceback": [
            "\u001b[0;31m---------------------------------------------------------------------------\u001b[0m",
            "\u001b[0;31mKeyboardInterrupt\u001b[0m                         Traceback (most recent call last)",
            "\u001b[0;32m<ipython-input-48-06a5a6fe95e4>\u001b[0m in \u001b[0;36m<cell line: 1>\u001b[0;34m()\u001b[0m\n\u001b[0;32m----> 1\u001b[0;31m \u001b[0mcheck_missing_v1\u001b[0m\u001b[0;34m(\u001b[0m\u001b[0mdf\u001b[0m\u001b[0;34m,\u001b[0m\u001b[0mdf\u001b[0m\u001b[0;34m.\u001b[0m\u001b[0mcolumns\u001b[0m\u001b[0;34m)\u001b[0m\u001b[0;34m\u001b[0m\u001b[0;34m\u001b[0m\u001b[0m\n\u001b[0m",
            "\u001b[0;32m<ipython-input-39-eb77603b1784>\u001b[0m in \u001b[0;36mcheck_missing_v1\u001b[0;34m(df, lst_c1)\u001b[0m\n\u001b[1;32m      2\u001b[0m   \u001b[0mmissing_values\u001b[0m \u001b[0;34m=\u001b[0m \u001b[0;34m{\u001b[0m\u001b[0;34m}\u001b[0m\u001b[0;34m\u001b[0m\u001b[0;34m\u001b[0m\u001b[0m\n\u001b[1;32m      3\u001b[0m   \u001b[0;32mfor\u001b[0m \u001b[0mi\u001b[0m \u001b[0;32min\u001b[0m \u001b[0mlst_c1\u001b[0m\u001b[0;34m:\u001b[0m\u001b[0;34m\u001b[0m\u001b[0;34m\u001b[0m\u001b[0m\n\u001b[0;32m----> 4\u001b[0;31m     \u001b[0ma\u001b[0m \u001b[0;34m=\u001b[0m \u001b[0mdf\u001b[0m\u001b[0;34m.\u001b[0m\u001b[0mfilter\u001b[0m\u001b[0;34m(\u001b[0m\u001b[0mcol\u001b[0m\u001b[0;34m(\u001b[0m\u001b[0mi\u001b[0m\u001b[0;34m)\u001b[0m\u001b[0;34m.\u001b[0m\u001b[0misNull\u001b[0m\u001b[0;34m(\u001b[0m\u001b[0;34m)\u001b[0m\u001b[0;34m)\u001b[0m\u001b[0;34m.\u001b[0m\u001b[0mcount\u001b[0m\u001b[0;34m(\u001b[0m\u001b[0;34m)\u001b[0m\u001b[0;34m\u001b[0m\u001b[0;34m\u001b[0m\u001b[0m\n\u001b[0m\u001b[1;32m      5\u001b[0m     \u001b[0mmissing_values\u001b[0m\u001b[0;34m[\u001b[0m\u001b[0mi\u001b[0m\u001b[0;34m]\u001b[0m \u001b[0;34m=\u001b[0m \u001b[0ma\u001b[0m\u001b[0;34m\u001b[0m\u001b[0;34m\u001b[0m\u001b[0m\n\u001b[1;32m      6\u001b[0m   \u001b[0;32mreturn\u001b[0m \u001b[0;34m(\u001b[0m\u001b[0;34m{\u001b[0m\u001b[0;34m\"missing_values: \"\u001b[0m\u001b[0;34m:\u001b[0m\u001b[0mmissing_values\u001b[0m\u001b[0;34m}\u001b[0m\u001b[0;34m)\u001b[0m\u001b[0;34m\u001b[0m\u001b[0;34m\u001b[0m\u001b[0m\n",
            "\u001b[0;32m/usr/local/lib/python3.10/dist-packages/pyspark/sql/dataframe.py\u001b[0m in \u001b[0;36mcount\u001b[0;34m(self)\u001b[0m\n\u001b[1;32m   1238\u001b[0m         \u001b[0;36m3\u001b[0m\u001b[0;34m\u001b[0m\u001b[0;34m\u001b[0m\u001b[0m\n\u001b[1;32m   1239\u001b[0m         \"\"\"\n\u001b[0;32m-> 1240\u001b[0;31m         \u001b[0;32mreturn\u001b[0m \u001b[0mint\u001b[0m\u001b[0;34m(\u001b[0m\u001b[0mself\u001b[0m\u001b[0;34m.\u001b[0m\u001b[0m_jdf\u001b[0m\u001b[0;34m.\u001b[0m\u001b[0mcount\u001b[0m\u001b[0;34m(\u001b[0m\u001b[0;34m)\u001b[0m\u001b[0;34m)\u001b[0m\u001b[0;34m\u001b[0m\u001b[0;34m\u001b[0m\u001b[0m\n\u001b[0m\u001b[1;32m   1241\u001b[0m \u001b[0;34m\u001b[0m\u001b[0m\n\u001b[1;32m   1242\u001b[0m     \u001b[0;32mdef\u001b[0m \u001b[0mcollect\u001b[0m\u001b[0;34m(\u001b[0m\u001b[0mself\u001b[0m\u001b[0;34m)\u001b[0m \u001b[0;34m->\u001b[0m \u001b[0mList\u001b[0m\u001b[0;34m[\u001b[0m\u001b[0mRow\u001b[0m\u001b[0;34m]\u001b[0m\u001b[0;34m:\u001b[0m\u001b[0;34m\u001b[0m\u001b[0;34m\u001b[0m\u001b[0m\n",
            "\u001b[0;32m/usr/local/lib/python3.10/dist-packages/py4j/java_gateway.py\u001b[0m in \u001b[0;36m__call__\u001b[0;34m(self, *args)\u001b[0m\n\u001b[1;32m   1319\u001b[0m             \u001b[0mproto\u001b[0m\u001b[0;34m.\u001b[0m\u001b[0mEND_COMMAND_PART\u001b[0m\u001b[0;34m\u001b[0m\u001b[0;34m\u001b[0m\u001b[0m\n\u001b[1;32m   1320\u001b[0m \u001b[0;34m\u001b[0m\u001b[0m\n\u001b[0;32m-> 1321\u001b[0;31m         \u001b[0manswer\u001b[0m \u001b[0;34m=\u001b[0m \u001b[0mself\u001b[0m\u001b[0;34m.\u001b[0m\u001b[0mgateway_client\u001b[0m\u001b[0;34m.\u001b[0m\u001b[0msend_command\u001b[0m\u001b[0;34m(\u001b[0m\u001b[0mcommand\u001b[0m\u001b[0;34m)\u001b[0m\u001b[0;34m\u001b[0m\u001b[0;34m\u001b[0m\u001b[0m\n\u001b[0m\u001b[1;32m   1322\u001b[0m         return_value = get_return_value(\n\u001b[1;32m   1323\u001b[0m             answer, self.gateway_client, self.target_id, self.name)\n",
            "\u001b[0;32m/usr/local/lib/python3.10/dist-packages/py4j/java_gateway.py\u001b[0m in \u001b[0;36msend_command\u001b[0;34m(self, command, retry, binary)\u001b[0m\n\u001b[1;32m   1036\u001b[0m         \u001b[0mconnection\u001b[0m \u001b[0;34m=\u001b[0m \u001b[0mself\u001b[0m\u001b[0;34m.\u001b[0m\u001b[0m_get_connection\u001b[0m\u001b[0;34m(\u001b[0m\u001b[0;34m)\u001b[0m\u001b[0;34m\u001b[0m\u001b[0;34m\u001b[0m\u001b[0m\n\u001b[1;32m   1037\u001b[0m         \u001b[0;32mtry\u001b[0m\u001b[0;34m:\u001b[0m\u001b[0;34m\u001b[0m\u001b[0;34m\u001b[0m\u001b[0m\n\u001b[0;32m-> 1038\u001b[0;31m             \u001b[0mresponse\u001b[0m \u001b[0;34m=\u001b[0m \u001b[0mconnection\u001b[0m\u001b[0;34m.\u001b[0m\u001b[0msend_command\u001b[0m\u001b[0;34m(\u001b[0m\u001b[0mcommand\u001b[0m\u001b[0;34m)\u001b[0m\u001b[0;34m\u001b[0m\u001b[0;34m\u001b[0m\u001b[0m\n\u001b[0m\u001b[1;32m   1039\u001b[0m             \u001b[0;32mif\u001b[0m \u001b[0mbinary\u001b[0m\u001b[0;34m:\u001b[0m\u001b[0;34m\u001b[0m\u001b[0;34m\u001b[0m\u001b[0m\n\u001b[1;32m   1040\u001b[0m                 \u001b[0;32mreturn\u001b[0m \u001b[0mresponse\u001b[0m\u001b[0;34m,\u001b[0m \u001b[0mself\u001b[0m\u001b[0;34m.\u001b[0m\u001b[0m_create_connection_guard\u001b[0m\u001b[0;34m(\u001b[0m\u001b[0mconnection\u001b[0m\u001b[0;34m)\u001b[0m\u001b[0;34m\u001b[0m\u001b[0;34m\u001b[0m\u001b[0m\n",
            "\u001b[0;32m/usr/local/lib/python3.10/dist-packages/py4j/clientserver.py\u001b[0m in \u001b[0;36msend_command\u001b[0;34m(self, command)\u001b[0m\n\u001b[1;32m    509\u001b[0m         \u001b[0;32mtry\u001b[0m\u001b[0;34m:\u001b[0m\u001b[0;34m\u001b[0m\u001b[0;34m\u001b[0m\u001b[0m\n\u001b[1;32m    510\u001b[0m             \u001b[0;32mwhile\u001b[0m \u001b[0;32mTrue\u001b[0m\u001b[0;34m:\u001b[0m\u001b[0;34m\u001b[0m\u001b[0;34m\u001b[0m\u001b[0m\n\u001b[0;32m--> 511\u001b[0;31m                 \u001b[0manswer\u001b[0m \u001b[0;34m=\u001b[0m \u001b[0msmart_decode\u001b[0m\u001b[0;34m(\u001b[0m\u001b[0mself\u001b[0m\u001b[0;34m.\u001b[0m\u001b[0mstream\u001b[0m\u001b[0;34m.\u001b[0m\u001b[0mreadline\u001b[0m\u001b[0;34m(\u001b[0m\u001b[0;34m)\u001b[0m\u001b[0;34m[\u001b[0m\u001b[0;34m:\u001b[0m\u001b[0;34m-\u001b[0m\u001b[0;36m1\u001b[0m\u001b[0;34m]\u001b[0m\u001b[0;34m)\u001b[0m\u001b[0;34m\u001b[0m\u001b[0;34m\u001b[0m\u001b[0m\n\u001b[0m\u001b[1;32m    512\u001b[0m                 \u001b[0mlogger\u001b[0m\u001b[0;34m.\u001b[0m\u001b[0mdebug\u001b[0m\u001b[0;34m(\u001b[0m\u001b[0;34m\"Answer received: {0}\"\u001b[0m\u001b[0;34m.\u001b[0m\u001b[0mformat\u001b[0m\u001b[0;34m(\u001b[0m\u001b[0manswer\u001b[0m\u001b[0;34m)\u001b[0m\u001b[0;34m)\u001b[0m\u001b[0;34m\u001b[0m\u001b[0;34m\u001b[0m\u001b[0m\n\u001b[1;32m    513\u001b[0m                 \u001b[0;31m# Happens when a the other end is dead. There might be an empty\u001b[0m\u001b[0;34m\u001b[0m\u001b[0;34m\u001b[0m\u001b[0m\n",
            "\u001b[0;32m/usr/lib/python3.10/socket.py\u001b[0m in \u001b[0;36mreadinto\u001b[0;34m(self, b)\u001b[0m\n\u001b[1;32m    703\u001b[0m         \u001b[0;32mwhile\u001b[0m \u001b[0;32mTrue\u001b[0m\u001b[0;34m:\u001b[0m\u001b[0;34m\u001b[0m\u001b[0;34m\u001b[0m\u001b[0m\n\u001b[1;32m    704\u001b[0m             \u001b[0;32mtry\u001b[0m\u001b[0;34m:\u001b[0m\u001b[0;34m\u001b[0m\u001b[0;34m\u001b[0m\u001b[0m\n\u001b[0;32m--> 705\u001b[0;31m                 \u001b[0;32mreturn\u001b[0m \u001b[0mself\u001b[0m\u001b[0;34m.\u001b[0m\u001b[0m_sock\u001b[0m\u001b[0;34m.\u001b[0m\u001b[0mrecv_into\u001b[0m\u001b[0;34m(\u001b[0m\u001b[0mb\u001b[0m\u001b[0;34m)\u001b[0m\u001b[0;34m\u001b[0m\u001b[0;34m\u001b[0m\u001b[0m\n\u001b[0m\u001b[1;32m    706\u001b[0m             \u001b[0;32mexcept\u001b[0m \u001b[0mtimeout\u001b[0m\u001b[0;34m:\u001b[0m\u001b[0;34m\u001b[0m\u001b[0;34m\u001b[0m\u001b[0m\n\u001b[1;32m    707\u001b[0m                 \u001b[0mself\u001b[0m\u001b[0;34m.\u001b[0m\u001b[0m_timeout_occurred\u001b[0m \u001b[0;34m=\u001b[0m \u001b[0;32mTrue\u001b[0m\u001b[0;34m\u001b[0m\u001b[0;34m\u001b[0m\u001b[0m\n",
            "\u001b[0;31mKeyboardInterrupt\u001b[0m: "
          ]
        }
      ]
    },
    {
      "cell_type": "code",
      "source": [
        "def check_missing_percent_v1(df, lst_cl):\n",
        "  missing_values_less_75 = {}\n",
        "  missing_values_more_75 = {}                    # We can directly drop it\n",
        "  b = df.count()\n",
        "  for i in lst_cl:\n",
        "    a = df.filter(col(i).isNull()).count()\n",
        "    c = (a/b)*100\n",
        "    if c > 75:\n",
        "      missing_values_less_75[i] = c\n",
        "  return({\"missing_values_more_75\":missing_values_more_75, \"missing_values_less_75\": missing_values_less_75})\n"
      ],
      "metadata": {
        "id": "egtsvcLcmyAx"
      },
      "execution_count": null,
      "outputs": []
    },
    {
      "cell_type": "code",
      "source": [
        "check_missing_percent_v1(df,columns_A7)"
      ],
      "metadata": {
        "id": "X9uLv_pGmx7f",
        "colab": {
          "base_uri": "https://localhost:8080/"
        },
        "outputId": "6a023f19-6f22-4cbf-a876-5d1b11305397"
      },
      "execution_count": null,
      "outputs": [
        {
          "output_type": "execute_result",
          "data": {
            "text/plain": [
              "{'missing_values_more_75': {}, 'missing_values_less_75': {'member_id': 100.0}}"
            ]
          },
          "metadata": {},
          "execution_count": 58
        }
      ]
    },
    {
      "cell_type": "code",
      "source": [
        "def check_duplicates(df,cl):\n",
        "  a = df.select(cl).distinct().count()\n",
        "  b = df.count()\n",
        "  if a == b:\n",
        "    print(\"No Duplicates\")\n",
        "  else:\n",
        "      c = b-a\n",
        "      print(\"There are \",c,\"Duplicates\")"
      ],
      "metadata": {
        "id": "HeuN47bYmx5H"
      },
      "execution_count": null,
      "outputs": []
    },
    {
      "cell_type": "code",
      "source": [
        "check_duplicates(df,'id')"
      ],
      "metadata": {
        "id": "LixIkRtRmx3y",
        "colab": {
          "base_uri": "https://localhost:8080/"
        },
        "outputId": "2e5679ea-dbf7-4a2a-a374-6cb8b5f76ee6"
      },
      "execution_count": null,
      "outputs": [
        {
          "output_type": "stream",
          "name": "stdout",
          "text": [
            "No Duplicates\n"
          ]
        }
      ]
    },
    {
      "cell_type": "code",
      "source": [
        "df.select(columns_A7).show(5,False)"
      ],
      "metadata": {
        "id": "Siq3GUyxmx1a",
        "colab": {
          "base_uri": "https://localhost:8080/"
        },
        "outputId": "2335798f-13ab-4071-9d3f-73dfe0ee6bca"
      },
      "execution_count": null,
      "outputs": [
        {
          "output_type": "stream",
          "name": "stdout",
          "text": [
            "+--------+---------+---------+-----------+---------------+----------+--------+\n",
            "|id      |member_id|loan_amnt|funded_amnt|funded_amnt_inv|term      |int_rate|\n",
            "+--------+---------+---------+-----------+---------------+----------+--------+\n",
            "|68407277|NULL     |3600.0   |3600.0     |3600.0         | 36 months|13.99   |\n",
            "|68355089|NULL     |24700.0  |24700.0    |24700.0        | 36 months|11.99   |\n",
            "|68341763|NULL     |20000.0  |20000.0    |20000.0        | 60 months|10.78   |\n",
            "|66310712|NULL     |35000.0  |35000.0    |35000.0        | 60 months|14.85   |\n",
            "|68476807|NULL     |10400.0  |10400.0    |10400.0        | 60 months|22.45   |\n",
            "+--------+---------+---------+-----------+---------------+----------+--------+\n",
            "only showing top 5 rows\n",
            "\n"
          ]
        }
      ]
    },
    {
      "cell_type": "code",
      "source": [
        "# id ---- no duplicates and no null values\n",
        "from pyspark.sql.functions import asc\n",
        "from pyspark.sql.functions import asc, desc"
      ],
      "metadata": {
        "id": "umFsIpLKmxyN"
      },
      "execution_count": null,
      "outputs": []
    },
    {
      "cell_type": "code",
      "source": [
        "df.select(\"id\").distinct().orderBy(asc(\"id\")).show(5)"
      ],
      "metadata": {
        "id": "OeN0LXeZmxwL",
        "colab": {
          "base_uri": "https://localhost:8080/"
        },
        "outputId": "13773381-4f10-4f4c-b6ca-def130aefdb7"
      },
      "execution_count": null,
      "outputs": [
        {
          "output_type": "stream",
          "name": "stdout",
          "text": [
            "+---------+\n",
            "|       id|\n",
            "+---------+\n",
            "|  1000007|\n",
            "|100001133|\n",
            "|100001137|\n",
            "|100001142|\n",
            "|100001158|\n",
            "+---------+\n",
            "only showing top 5 rows\n",
            "\n"
          ]
        }
      ]
    },
    {
      "cell_type": "code",
      "source": [
        "df.select(\"id\").distinct().orderBy(desc(\"id\")).show(50, False)"
      ],
      "metadata": {
        "id": "VBszbUlrmxuq",
        "colab": {
          "base_uri": "https://localhost:8080/"
        },
        "outputId": "b6099c46-7c8b-422c-a52c-4577a6dc06a1"
      },
      "execution_count": null,
      "outputs": [
        {
          "output_type": "stream",
          "name": "stdout",
          "text": [
            "+------------------------------------------------+\n",
            "|id                                              |\n",
            "+------------------------------------------------+\n",
            "|Total amount funded in policy code 2: 873652739 |\n",
            "|Total amount funded in policy code 2: 823319310 |\n",
            "|Total amount funded in policy code 2: 820109297 |\n",
            "|Total amount funded in policy code 2: 81866225  |\n",
            "|Total amount funded in policy code 2: 737901574 |\n",
            "|Total amount funded in policy code 2: 662815446 |\n",
            "|Total amount funded in policy code 2: 651669342 |\n",
            "|Total amount funded in policy code 2: 620899600 |\n",
            "|Total amount funded in policy code 2: 608903141 |\n",
            "|Total amount funded in policy code 2: 567447023 |\n",
            "|Total amount funded in policy code 2: 564202131 |\n",
            "|Total amount funded in policy code 2: 521953170 |\n",
            "|Total amount funded in policy code 2: 520780182 |\n",
            "|Total amount funded in policy code 2: 511988838 |\n",
            "|Total amount funded in policy code 2: 1944088810|\n",
            "|Total amount funded in policy code 2: 0         |\n",
            "|Total amount funded in policy code 1: 6417608175|\n",
            "|Total amount funded in policy code 1: 460296150 |\n",
            "|Total amount funded in policy code 1: 3503840175|\n",
            "|Total amount funded in policy code 1: 2700702175|\n",
            "|Total amount funded in policy code 1: 2087217200|\n",
            "|Total amount funded in policy code 1: 2080429200|\n",
            "|Total amount funded in policy code 1: 2063142975|\n",
            "|Total amount funded in policy code 1: 2050909275|\n",
            "|Total amount funded in policy code 1: 1817354125|\n",
            "|Total amount funded in policy code 1: 1791201400|\n",
            "|Total amount funded in policy code 1: 1741781700|\n",
            "|Total amount funded in policy code 1: 1538432075|\n",
            "|Total amount funded in policy code 1: 1465324575|\n",
            "|Total amount funded in policy code 1: 1443412975|\n",
            "|Total amount funded in policy code 1: 1437969475|\n",
            "|Total amount funded in policy code 1: 1404586950|\n",
            "|Loans that do not meet the credit policy        |\n",
            "|999989                                          |\n",
            "|999983                                          |\n",
            "|999981                                          |\n",
            "|99997759                                        |\n",
            "|99997746                                        |\n",
            "|99997737                                        |\n",
            "|99997727                                        |\n",
            "|99997705                                        |\n",
            "|99997697                                        |\n",
            "|99997693                                        |\n",
            "|99997686                                        |\n",
            "|99997680                                        |\n",
            "|99997670                                        |\n",
            "|99997602                                        |\n",
            "|99997598                                        |\n",
            "|99997566                                        |\n",
            "|99997505                                        |\n",
            "+------------------------------------------------+\n",
            "only showing top 50 rows\n",
            "\n"
          ]
        }
      ]
    },
    {
      "cell_type": "code",
      "source": [
        "df.select(\"id\").filter(col(\"id\").like(\"%Total amount funded in policy code%\")).count()"
      ],
      "metadata": {
        "id": "nn6cIztAmxsx",
        "colab": {
          "base_uri": "https://localhost:8080/"
        },
        "outputId": "a41e81fb-e35c-4930-aeb5-0d0ac9e5c824"
      },
      "execution_count": null,
      "outputs": [
        {
          "output_type": "execute_result",
          "data": {
            "text/plain": [
              "32"
            ]
          },
          "metadata": {},
          "execution_count": 47
        }
      ]
    },
    {
      "cell_type": "code",
      "source": [
        "print(df.columns)"
      ],
      "metadata": {
        "colab": {
          "base_uri": "https://localhost:8080/"
        },
        "id": "23cbWu_l8oGN",
        "outputId": "cc97d065-e107-497f-bead-beca7dd19a63"
      },
      "execution_count": null,
      "outputs": [
        {
          "output_type": "stream",
          "name": "stdout",
          "text": [
            "['id', 'member_id', 'loan_amnt', 'funded_amnt', 'funded_amnt_inv', 'term', 'int_rate', 'installment', 'grade', 'sub_grade', 'emp_title', 'emp_length', 'home_ownership', 'annual_inc', 'verification_status', 'issue_d', 'loan_status', 'pymnt_plan', 'url', 'desc', 'purpose', 'title', 'zip_code', 'addr_state', 'dti', 'delinq_2yrs', 'earliest_cr_line', 'fico_range_low', 'fico_range_high', 'inq_last_6mths', 'mths_since_last_delinq', 'mths_since_last_record', 'open_acc', 'pub_rec', 'revol_bal', 'revol_util', 'total_acc', 'initial_list_status', 'out_prncp', 'out_prncp_inv', 'total_pymnt', 'total_pymnt_inv', 'total_rec_prncp', 'total_rec_int', 'total_rec_late_fee', 'recoveries', 'collection_recovery_fee', 'last_pymnt_d', 'last_pymnt_amnt', 'next_pymnt_d', 'last_credit_pull_d', 'last_fico_range_high', 'last_fico_range_low', 'collections_12_mths_ex_med', 'mths_since_last_major_derog', 'policy_code', 'application_type', 'annual_inc_joint', 'dti_joint', 'verification_status_joint', 'acc_now_delinq', 'tot_coll_amt', 'tot_cur_bal', 'open_acc_6m', 'open_act_il', 'open_il_12m', 'open_il_24m', 'mths_since_rcnt_il', 'total_bal_il', 'il_util', 'open_rv_12m', 'open_rv_24m', 'max_bal_bc', 'all_util', 'total_rev_hi_lim', 'inq_fi', 'total_cu_tl', 'inq_last_12m', 'acc_open_past_24mths', 'avg_cur_bal', 'bc_open_to_buy', 'bc_util', 'chargeoff_within_12_mths', 'delinq_amnt', 'mo_sin_old_il_acct', 'mo_sin_old_rev_tl_op', 'mo_sin_rcnt_rev_tl_op', 'mo_sin_rcnt_tl', 'mort_acc', 'mths_since_recent_bc', 'mths_since_recent_bc_dlq', 'mths_since_recent_inq', 'mths_since_recent_revol_delinq', 'num_accts_ever_120_pd', 'num_actv_bc_tl', 'num_actv_rev_tl', 'num_bc_sats', 'num_bc_tl', 'num_il_tl', 'num_op_rev_tl', 'num_rev_accts', 'num_rev_tl_bal_gt_0', 'num_sats', 'num_tl_120dpd_2m', 'num_tl_30dpd', 'num_tl_90g_dpd_24m', 'num_tl_op_past_12m', 'pct_tl_nvr_dlq', 'percent_bc_gt_75', 'pub_rec_bankruptcies', 'tax_liens', 'tot_hi_cred_lim', 'total_bal_ex_mort', 'total_bc_limit', 'total_il_high_credit_limit', 'revol_bal_joint', 'sec_app_fico_range_low', 'sec_app_fico_range_high', 'sec_app_earliest_cr_line', 'sec_app_inq_last_6mths', 'sec_app_mort_acc', 'sec_app_open_acc', 'sec_app_revol_util', 'sec_app_open_act_il', 'sec_app_num_rev_accts', 'sec_app_chargeoff_within_12_mths', 'sec_app_collections_12_mths_ex_med', 'sec_app_mths_since_last_major_derog', 'hardship_flag', 'hardship_type', 'hardship_reason', 'hardship_status', 'deferral_term', 'hardship_amount', 'hardship_start_date', 'hardship_end_date', 'payment_plan_start_date', 'hardship_length', 'hardship_dpd', 'hardship_loan_status', 'orig_projected_additional_accrued_interest', 'hardship_payoff_balance_amount', 'hardship_last_payment_amount', 'disbursement_method', 'debt_settlement_flag', 'debt_settlement_flag_date', 'settlement_status', 'settlement_date', 'settlement_amount', 'settlement_percentage', 'settlement_term']\n"
          ]
        }
      ]
    },
    {
      "cell_type": "code",
      "source": [
        "df.select(columns_A7).filter(col(\"id\").rlike(\"%Total amount funded in policy code%\")).show(5)"
      ],
      "metadata": {
        "colab": {
          "base_uri": "https://localhost:8080/"
        },
        "id": "4R7DroibBALT",
        "outputId": "2e0981fd-ad3b-402b-ab53-849ef4f21097"
      },
      "execution_count": null,
      "outputs": [
        {
          "output_type": "stream",
          "name": "stdout",
          "text": [
            "+---+---------+---------+-----------+---------------+----+--------+\n",
            "| id|member_id|loan_amnt|funded_amnt|funded_amnt_inv|term|int_rate|\n",
            "+---+---------+---------+-----------+---------------+----+--------+\n",
            "+---+---------+---------+-----------+---------------+----+--------+\n",
            "\n"
          ]
        }
      ]
    },
    {
      "cell_type": "code",
      "source": [
        "df.select(columns_A7).filter(col(\"id\").like(\"%Total amount funded in policy code%\")).show(5)"
      ],
      "metadata": {
        "id": "JRF3ebAhmxqj",
        "colab": {
          "base_uri": "https://localhost:8080/"
        },
        "outputId": "57f5303e-c71d-4912-cd60-0ede6127c069"
      },
      "execution_count": null,
      "outputs": [
        {
          "output_type": "stream",
          "name": "stdout",
          "text": [
            "+--------------------+---------+---------+-----------+---------------+----+--------+\n",
            "|                  id|member_id|loan_amnt|funded_amnt|funded_amnt_inv|term|int_rate|\n",
            "+--------------------+---------+---------+-----------+---------------+----+--------+\n",
            "|Total amount fund...|     NULL|     NULL|       NULL|           NULL|NULL|    NULL|\n",
            "|Total amount fund...|     NULL|     NULL|       NULL|           NULL|NULL|    NULL|\n",
            "|Total amount fund...|     NULL|     NULL|       NULL|           NULL|NULL|    NULL|\n",
            "|Total amount fund...|     NULL|     NULL|       NULL|           NULL|NULL|    NULL|\n",
            "|Total amount fund...|     NULL|     NULL|       NULL|           NULL|NULL|    NULL|\n",
            "+--------------------+---------+---------+-----------+---------------+----+--------+\n",
            "only showing top 5 rows\n",
            "\n"
          ]
        }
      ]
    },
    {
      "cell_type": "code",
      "source": [
        "from pyspark.sql.functions import col"
      ],
      "metadata": {
        "id": "s_E0EfV0sLEN"
      },
      "execution_count": null,
      "outputs": []
    },
    {
      "cell_type": "code",
      "source": [
        "df = df.select(columns_A7).filter(~col(\"id\").rlike(\"^[A-Za-z]\")).show(10)"
      ],
      "metadata": {
        "id": "TF2vs-eCmxok",
        "colab": {
          "base_uri": "https://localhost:8080/",
          "height": 146
        },
        "outputId": "9db3e075-c54a-4e08-cfbe-6ce93ab2b959"
      },
      "execution_count": null,
      "outputs": [
        {
          "output_type": "error",
          "ename": "AttributeError",
          "evalue": "'NoneType' object has no attribute 'select'",
          "traceback": [
            "\u001b[0;31m---------------------------------------------------------------------------\u001b[0m",
            "\u001b[0;31mAttributeError\u001b[0m                            Traceback (most recent call last)",
            "\u001b[0;32m<ipython-input-94-6131f332a42c>\u001b[0m in \u001b[0;36m<cell line: 1>\u001b[0;34m()\u001b[0m\n\u001b[0;32m----> 1\u001b[0;31m \u001b[0mdf\u001b[0m \u001b[0;34m=\u001b[0m \u001b[0mdf\u001b[0m\u001b[0;34m.\u001b[0m\u001b[0mselect\u001b[0m\u001b[0;34m(\u001b[0m\u001b[0mcolumns_A7\u001b[0m\u001b[0;34m)\u001b[0m\u001b[0;34m.\u001b[0m\u001b[0mfilter\u001b[0m\u001b[0;34m(\u001b[0m\u001b[0;34m~\u001b[0m\u001b[0mcol\u001b[0m\u001b[0;34m(\u001b[0m\u001b[0;34m\"id\"\u001b[0m\u001b[0;34m)\u001b[0m\u001b[0;34m.\u001b[0m\u001b[0mrlike\u001b[0m\u001b[0;34m(\u001b[0m\u001b[0;34m\"^[A-Za-z]\"\u001b[0m\u001b[0;34m)\u001b[0m\u001b[0;34m)\u001b[0m\u001b[0;34m.\u001b[0m\u001b[0mshow\u001b[0m\u001b[0;34m(\u001b[0m\u001b[0;36m10\u001b[0m\u001b[0;34m)\u001b[0m\u001b[0;34m\u001b[0m\u001b[0;34m\u001b[0m\u001b[0m\n\u001b[0m",
            "\u001b[0;31mAttributeError\u001b[0m: 'NoneType' object has no attribute 'select'"
          ]
        }
      ]
    },
    {
      "cell_type": "code",
      "source": [
        "df.count()"
      ],
      "metadata": {
        "id": "T7ewIrmtmxmH",
        "colab": {
          "base_uri": "https://localhost:8080/",
          "height": 146
        },
        "outputId": "5791f8eb-a9d4-49de-abfc-35582ca126ab"
      },
      "execution_count": null,
      "outputs": [
        {
          "output_type": "error",
          "ename": "AttributeError",
          "evalue": "'NoneType' object has no attribute 'count'",
          "traceback": [
            "\u001b[0;31m---------------------------------------------------------------------------\u001b[0m",
            "\u001b[0;31mAttributeError\u001b[0m                            Traceback (most recent call last)",
            "\u001b[0;32m<ipython-input-25-3c9a60fd698f>\u001b[0m in \u001b[0;36m<cell line: 1>\u001b[0;34m()\u001b[0m\n\u001b[0;32m----> 1\u001b[0;31m \u001b[0mdf\u001b[0m\u001b[0;34m.\u001b[0m\u001b[0mcount\u001b[0m\u001b[0;34m(\u001b[0m\u001b[0;34m)\u001b[0m\u001b[0;34m\u001b[0m\u001b[0;34m\u001b[0m\u001b[0m\n\u001b[0m",
            "\u001b[0;31mAttributeError\u001b[0m: 'NoneType' object has no attribute 'count'"
          ]
        }
      ]
    },
    {
      "cell_type": "code",
      "source": [
        "df.select(\"id\").distinct().orderBy(asc(\"id\")).show(50,False)"
      ],
      "metadata": {
        "id": "k0vP-mLGmxjD",
        "colab": {
          "base_uri": "https://localhost:8080/"
        },
        "outputId": "b7abb3c9-272d-4eef-e446-919d59882dd7"
      },
      "execution_count": null,
      "outputs": [
        {
          "output_type": "stream",
          "name": "stdout",
          "text": [
            "+---------+\n",
            "|id       |\n",
            "+---------+\n",
            "|1000007  |\n",
            "|100001133|\n",
            "|100001137|\n",
            "|100001142|\n",
            "|100001158|\n",
            "|100001163|\n",
            "|100001282|\n",
            "|100001303|\n",
            "|100001310|\n",
            "|100001318|\n",
            "|100001345|\n",
            "|100001348|\n",
            "|100001349|\n",
            "|100001365|\n",
            "|100001465|\n",
            "|100001468|\n",
            "|100001498|\n",
            "|100001532|\n",
            "|100001541|\n",
            "|100001557|\n",
            "|100001562|\n",
            "|100001598|\n",
            "|100001621|\n",
            "|100001623|\n",
            "|100001629|\n",
            "|100001633|\n",
            "|100001665|\n",
            "|100001671|\n",
            "|100001723|\n",
            "|100001756|\n",
            "|100001760|\n",
            "|100001829|\n",
            "|100001835|\n",
            "|100001844|\n",
            "|100001896|\n",
            "|100001941|\n",
            "|100001958|\n",
            "|100002082|\n",
            "|100002090|\n",
            "|100002096|\n",
            "|100002110|\n",
            "|100002159|\n",
            "|100002176|\n",
            "|100002183|\n",
            "|100002200|\n",
            "|100002262|\n",
            "|100002294|\n",
            "|100002301|\n",
            "|100002318|\n",
            "|100002345|\n",
            "+---------+\n",
            "only showing top 50 rows\n",
            "\n"
          ]
        }
      ]
    },
    {
      "cell_type": "code",
      "source": [
        "df.select(columns_A7).show(10)"
      ],
      "metadata": {
        "id": "LeAm9nGXmwYx",
        "colab": {
          "base_uri": "https://localhost:8080/"
        },
        "outputId": "25568e13-3c7d-4946-ed03-ddb803ae4367"
      },
      "execution_count": null,
      "outputs": [
        {
          "output_type": "stream",
          "name": "stdout",
          "text": [
            "+--------+---------+---------+-----------+---------------+----------+--------+\n",
            "|      id|member_id|loan_amnt|funded_amnt|funded_amnt_inv|      term|int_rate|\n",
            "+--------+---------+---------+-----------+---------------+----------+--------+\n",
            "|68407277|     NULL|   3600.0|     3600.0|         3600.0| 36 months|   13.99|\n",
            "|68355089|     NULL|  24700.0|    24700.0|        24700.0| 36 months|   11.99|\n",
            "|68341763|     NULL|  20000.0|    20000.0|        20000.0| 60 months|   10.78|\n",
            "|66310712|     NULL|  35000.0|    35000.0|        35000.0| 60 months|   14.85|\n",
            "|68476807|     NULL|  10400.0|    10400.0|        10400.0| 60 months|   22.45|\n",
            "|68426831|     NULL|  11950.0|    11950.0|        11950.0| 36 months|   13.44|\n",
            "|68476668|     NULL|  20000.0|    20000.0|        20000.0| 36 months|    9.17|\n",
            "|67275481|     NULL|  20000.0|    20000.0|        20000.0| 36 months|    8.49|\n",
            "|68466926|     NULL|  10000.0|    10000.0|        10000.0| 36 months|    6.49|\n",
            "|68616873|     NULL|   8000.0|     8000.0|         8000.0| 36 months|   11.48|\n",
            "+--------+---------+---------+-----------+---------------+----------+--------+\n",
            "only showing top 10 rows\n",
            "\n"
          ]
        }
      ]
    },
    {
      "cell_type": "code",
      "source": [
        "df.select(\"term\").distinct().show(5)"
      ],
      "metadata": {
        "id": "ROelhD43mwV6",
        "colab": {
          "base_uri": "https://localhost:8080/"
        },
        "outputId": "19019295-6fe3-43c2-e3a8-e91812fd128e"
      },
      "execution_count": null,
      "outputs": [
        {
          "output_type": "stream",
          "name": "stdout",
          "text": [
            "+----------+\n",
            "|      term|\n",
            "+----------+\n",
            "| 36 months|\n",
            "| 60 months|\n",
            "|      NULL|\n",
            "+----------+\n",
            "\n"
          ]
        }
      ]
    },
    {
      "cell_type": "code",
      "source": [
        "df = df.withColumn(\"term_in_months\", regexp_replace(\"term\", \" months\", \"\"))"
      ],
      "metadata": {
        "id": "w3l_9uJ3-pvZ"
      },
      "execution_count": null,
      "outputs": []
    },
    {
      "cell_type": "code",
      "source": [
        "df.select(\"term\", \"term_in_months\").distinct().show(5)"
      ],
      "metadata": {
        "colab": {
          "base_uri": "https://localhost:8080/"
        },
        "id": "XwxBk5-W-ptU",
        "outputId": "e3c13357-039a-4228-e6c6-a286d3092fb6"
      },
      "execution_count": null,
      "outputs": [
        {
          "output_type": "stream",
          "name": "stdout",
          "text": [
            "+----------+--------------+\n",
            "|      term|term_in_months|\n",
            "+----------+--------------+\n",
            "| 36 months|            36|\n",
            "| 60 months|            60|\n",
            "|      NULL|          NULL|\n",
            "+----------+--------------+\n",
            "\n"
          ]
        }
      ]
    },
    {
      "cell_type": "code",
      "source": [
        "df.select(columns_B7).show(10)"
      ],
      "metadata": {
        "colab": {
          "base_uri": "https://localhost:8080/"
        },
        "id": "iUvrHYSg-pqu",
        "outputId": "169bed38-d134-4741-df90-76caf46c9699"
      },
      "execution_count": null,
      "outputs": [
        {
          "output_type": "stream",
          "name": "stdout",
          "text": [
            "+-----------+-----+---------+--------------------+----------+--------------+----------+\n",
            "|installment|grade|sub_grade|           emp_title|emp_length|home_ownership|annual_inc|\n",
            "+-----------+-----+---------+--------------------+----------+--------------+----------+\n",
            "|     123.03|    C|       C4|             leadman| 10+ years|      MORTGAGE|   55000.0|\n",
            "|     820.28|    C|       C1|            Engineer| 10+ years|      MORTGAGE|   65000.0|\n",
            "|     432.66|    B|       B4|        truck driver| 10+ years|      MORTGAGE|   63000.0|\n",
            "|      829.9|    C|       C5|Information Syste...| 10+ years|      MORTGAGE|  110000.0|\n",
            "|     289.91|    F|       F1| Contract Specialist|   3 years|      MORTGAGE|  104433.0|\n",
            "|     405.18|    C|       C3|Veterinary Tecnician|   4 years|          RENT|   34000.0|\n",
            "|     637.58|    B|       B2|Vice President of...| 10+ years|      MORTGAGE|  180000.0|\n",
            "|     631.26|    B|       B1|         road driver| 10+ years|      MORTGAGE|   85000.0|\n",
            "|     306.45|    A|       A2|     SERVICE MANAGER|   6 years|          RENT|   85000.0|\n",
            "|     263.74|    B|       B5|      Vendor liaison| 10+ years|      MORTGAGE|   42000.0|\n",
            "+-----------+-----+---------+--------------------+----------+--------------+----------+\n",
            "only showing top 10 rows\n",
            "\n"
          ]
        }
      ]
    },
    {
      "cell_type": "code",
      "source": [
        "df.select(\"grade\").distinct().show(10)"
      ],
      "metadata": {
        "colab": {
          "base_uri": "https://localhost:8080/"
        },
        "id": "hWU790rw-poQ",
        "outputId": "d44a5b5c-bdd6-45c2-b7b0-5ea48e859d7d"
      },
      "execution_count": null,
      "outputs": [
        {
          "output_type": "stream",
          "name": "stdout",
          "text": [
            "+-----+\n",
            "|grade|\n",
            "+-----+\n",
            "|    F|\n",
            "|    E|\n",
            "|    B|\n",
            "|    D|\n",
            "|    C|\n",
            "|    A|\n",
            "|    G|\n",
            "| NULL|\n",
            "+-----+\n",
            "\n"
          ]
        }
      ]
    },
    {
      "cell_type": "code",
      "source": [
        "df.select(\"grade\").filter(length(col(\"grade\"))>1).show(10)"
      ],
      "metadata": {
        "colab": {
          "base_uri": "https://localhost:8080/"
        },
        "id": "RepPOdLC-pit",
        "outputId": "e6871603-d118-423b-91e7-7a68c4994ee4"
      },
      "execution_count": null,
      "outputs": [
        {
          "output_type": "stream",
          "name": "stdout",
          "text": [
            "+-----+\n",
            "|grade|\n",
            "+-----+\n",
            "+-----+\n",
            "\n"
          ]
        }
      ]
    },
    {
      "cell_type": "code",
      "source": [
        "df.select(\"sub_grade\").distinct().show(10)"
      ],
      "metadata": {
        "colab": {
          "base_uri": "https://localhost:8080/"
        },
        "id": "GNcHl7Sx-pgu",
        "outputId": "3519ea2a-1327-442d-ff58-4b7d5e626c49"
      },
      "execution_count": null,
      "outputs": [
        {
          "output_type": "stream",
          "name": "stdout",
          "text": [
            "+---------+\n",
            "|sub_grade|\n",
            "+---------+\n",
            "|       D5|\n",
            "|       F2|\n",
            "|       B4|\n",
            "|       A2|\n",
            "|       E4|\n",
            "|       B2|\n",
            "|       C3|\n",
            "|       D1|\n",
            "|       C4|\n",
            "|       F1|\n",
            "+---------+\n",
            "only showing top 10 rows\n",
            "\n"
          ]
        }
      ]
    },
    {
      "cell_type": "code",
      "source": [
        "df.select(\"sub_grade\").filter(length(col(\"sub_grade\"))>2).show(10)"
      ],
      "metadata": {
        "colab": {
          "base_uri": "https://localhost:8080/"
        },
        "id": "KI_gVCOF-pdP",
        "outputId": "1f37c2f7-501d-43c5-ff37-7245395f8ff2"
      },
      "execution_count": null,
      "outputs": [
        {
          "output_type": "stream",
          "name": "stdout",
          "text": [
            "+---------+\n",
            "|sub_grade|\n",
            "+---------+\n",
            "+---------+\n",
            "\n"
          ]
        }
      ]
    },
    {
      "cell_type": "code",
      "source": [
        "df.select(\"sub_grade\").filter(length(col(\"sub_grade\"))<2).show(10)"
      ],
      "metadata": {
        "colab": {
          "base_uri": "https://localhost:8080/"
        },
        "id": "tcU_3O8R-paI",
        "outputId": "4781fc3a-ba65-4018-c2d0-1a3f59f2340e"
      },
      "execution_count": null,
      "outputs": [
        {
          "output_type": "stream",
          "name": "stdout",
          "text": [
            "+---------+\n",
            "|sub_grade|\n",
            "+---------+\n",
            "+---------+\n",
            "\n"
          ]
        }
      ]
    },
    {
      "cell_type": "code",
      "source": [
        "df.select(\"emp_title\").distinct().show(10)"
      ],
      "metadata": {
        "colab": {
          "base_uri": "https://localhost:8080/"
        },
        "id": "yQ0uwDRF-pXx",
        "outputId": "8f132327-f844-4971-f65c-965281d6d9ab"
      },
      "execution_count": null,
      "outputs": [
        {
          "output_type": "stream",
          "name": "stdout",
          "text": [
            "+--------------------+\n",
            "|           emp_title|\n",
            "+--------------------+\n",
            "|           Physician|\n",
            "|Systems Administr...|\n",
            "|           librarian|\n",
            "|            PAYABLES|\n",
            "|Client Support Sp...|\n",
            "|                 CSR|\n",
            "|          Technitian|\n",
            "|           machinist|\n",
            "| Financial assistant|\n",
            "|           Scientist|\n",
            "+--------------------+\n",
            "only showing top 10 rows\n",
            "\n"
          ]
        }
      ]
    },
    {
      "cell_type": "code",
      "source": [
        "df.select(\"emp_title\").distinct().count()"
      ],
      "metadata": {
        "colab": {
          "base_uri": "https://localhost:8080/"
        },
        "id": "sP9LW3tE-pVl",
        "outputId": "0d8ed5e9-abaf-4993-e115-818e8a5b6ab7"
      },
      "execution_count": null,
      "outputs": [
        {
          "output_type": "execute_result",
          "data": {
            "text/plain": [
              "512695"
            ]
          },
          "metadata": {},
          "execution_count": 27
        }
      ]
    },
    {
      "cell_type": "code",
      "source": [
        "df.select(\"emp_title\").distinct().show(20,False)"
      ],
      "metadata": {
        "colab": {
          "base_uri": "https://localhost:8080/"
        },
        "id": "8V8Gazzk-pSu",
        "outputId": "df4fb723-a0c0-4320-e97e-82b63bd7496c"
      },
      "execution_count": null,
      "outputs": [
        {
          "output_type": "stream",
          "name": "stdout",
          "text": [
            "+------------------------------------+\n",
            "|emp_title                           |\n",
            "+------------------------------------+\n",
            "|Physician                           |\n",
            "|Systems Administrator II            |\n",
            "|librarian                           |\n",
            "|PAYABLES                            |\n",
            "|Client Support Specialist II        |\n",
            "|CSR                                 |\n",
            "|Technitian                          |\n",
            "|machinist                           |\n",
            "|Financial assistant                 |\n",
            "|Scientist                           |\n",
            "|Digital Marketing Manager           |\n",
            "|Service Writer                      |\n",
            "|Risk Manager II                     |\n",
            "|Vice President, Director of Research|\n",
            "|Regional sales manager              |\n",
            "|Tax Collections Supervisor          |\n",
            "|Park Manager                        |\n",
            "|Behavior specialist                 |\n",
            "|Lead organizer                      |\n",
            "|Journeyman Electrician              |\n",
            "+------------------------------------+\n",
            "only showing top 20 rows\n",
            "\n"
          ]
        }
      ]
    },
    {
      "cell_type": "code",
      "source": [
        "df.select(columns_B7).filter(col(\"emp_title\").isNull()).show(10)"
      ],
      "metadata": {
        "colab": {
          "base_uri": "https://localhost:8080/"
        },
        "id": "yzzYh3i_-pQQ",
        "outputId": "b1c179b2-ee61-411e-b385-7b9f9cd6a7f7"
      },
      "execution_count": null,
      "outputs": [
        {
          "output_type": "stream",
          "name": "stdout",
          "text": [
            "+-----------+-----+---------+---------+----------+--------------+----------+\n",
            "|installment|grade|sub_grade|emp_title|emp_length|home_ownership|annual_inc|\n",
            "+-----------+-----+---------+---------+----------+--------------+----------+\n",
            "|     507.58|    B|       B3|     NULL|      NULL|           OWN|   77900.0|\n",
            "|      45.97|    A|       A2|     NULL|      NULL|      MORTGAGE|   45000.0|\n",
            "|     451.73|    A|       A1|     NULL|      NULL|          RENT|   80000.0|\n",
            "|     777.55|    A|       A4|     NULL|      NULL|      MORTGAGE|  132000.0|\n",
            "|      82.42|    B|       B5|     NULL|      NULL|          RENT|   16488.0|\n",
            "|     466.53|    A|       A4|     NULL|      NULL|      MORTGAGE|   45000.0|\n",
            "|      289.1|    D|       D4|     NULL|      NULL|      MORTGAGE|   33130.0|\n",
            "|     246.99|    A|       A3|     NULL|      NULL|      MORTGAGE|   45000.0|\n",
            "|     514.78|    B|       B3|     NULL|      NULL|      MORTGAGE|   99906.0|\n",
            "|     637.58|    B|       B2|     NULL|   2 years|          RENT|  130000.0|\n",
            "+-----------+-----+---------+---------+----------+--------------+----------+\n",
            "only showing top 10 rows\n",
            "\n"
          ]
        }
      ]
    },
    {
      "cell_type": "code",
      "source": [
        "df.select(columns_B7).filter(col(\"emp_title\").isNull()).count()"
      ],
      "metadata": {
        "colab": {
          "base_uri": "https://localhost:8080/"
        },
        "id": "-pxTkP65-pNh",
        "outputId": "ff9a512d-dbc4-4dcb-d5ce-a43fc7135f06"
      },
      "execution_count": null,
      "outputs": [
        {
          "output_type": "execute_result",
          "data": {
            "text/plain": [
              "167002"
            ]
          },
          "metadata": {},
          "execution_count": 30
        }
      ]
    },
    {
      "cell_type": "code",
      "source": [
        "(167002/2260668)*100"
      ],
      "metadata": {
        "id": "yHFGfy1CmwTK",
        "colab": {
          "base_uri": "https://localhost:8080/"
        },
        "outputId": "dfc5da6c-8ba9-4c77-8dab-74c97d21f6c6"
      },
      "execution_count": null,
      "outputs": [
        {
          "output_type": "execute_result",
          "data": {
            "text/plain": [
              "7.387285527994381"
            ]
          },
          "metadata": {},
          "execution_count": 31
        }
      ]
    },
    {
      "cell_type": "code",
      "source": [
        "df.groupby(\"emp_title\").count().orderBy(desc(\"count\")).show(30,False)"
      ],
      "metadata": {
        "id": "8SggUnHFmwQw",
        "colab": {
          "base_uri": "https://localhost:8080/",
          "height": 146
        },
        "outputId": "93b76ccb-2560-44b6-c136-954c587cab47"
      },
      "execution_count": null,
      "outputs": [
        {
          "output_type": "error",
          "ename": "AttributeError",
          "evalue": "'NoneType' object has no attribute 'groupby'",
          "traceback": [
            "\u001b[0;31m---------------------------------------------------------------------------\u001b[0m",
            "\u001b[0;31mAttributeError\u001b[0m                            Traceback (most recent call last)",
            "\u001b[0;32m<ipython-input-92-1e612e1efef4>\u001b[0m in \u001b[0;36m<cell line: 1>\u001b[0;34m()\u001b[0m\n\u001b[0;32m----> 1\u001b[0;31m \u001b[0mdf\u001b[0m\u001b[0;34m.\u001b[0m\u001b[0mgroupby\u001b[0m\u001b[0;34m(\u001b[0m\u001b[0;34m\"emp_title\"\u001b[0m\u001b[0;34m)\u001b[0m\u001b[0;34m.\u001b[0m\u001b[0mcount\u001b[0m\u001b[0;34m(\u001b[0m\u001b[0;34m)\u001b[0m\u001b[0;34m.\u001b[0m\u001b[0morderBy\u001b[0m\u001b[0;34m(\u001b[0m\u001b[0mdesc\u001b[0m\u001b[0;34m(\u001b[0m\u001b[0;34m\"count\"\u001b[0m\u001b[0;34m)\u001b[0m\u001b[0;34m)\u001b[0m\u001b[0;34m.\u001b[0m\u001b[0mshow\u001b[0m\u001b[0;34m(\u001b[0m\u001b[0;36m30\u001b[0m\u001b[0;34m,\u001b[0m\u001b[0;32mFalse\u001b[0m\u001b[0;34m)\u001b[0m\u001b[0;34m\u001b[0m\u001b[0;34m\u001b[0m\u001b[0m\n\u001b[0m",
            "\u001b[0;31mAttributeError\u001b[0m: 'NoneType' object has no attribute 'groupby'"
          ]
        }
      ]
    },
    {
      "cell_type": "code",
      "source": [
        "df = df.fillna(\"Others\", subset=[\"emp_title\"])"
      ],
      "metadata": {
        "id": "xIHudABVmwOH"
      },
      "execution_count": null,
      "outputs": []
    },
    {
      "cell_type": "code",
      "source": [
        "df.groupby(\"emp_title\").count().orderBy(desc(\"count\")).show(30,False)"
      ],
      "metadata": {
        "colab": {
          "base_uri": "https://localhost:8080/"
        },
        "id": "TJeJ5JixWtVx",
        "outputId": "634b70bd-3e7c-4443-8e68-e0c9d09b4a74"
      },
      "execution_count": null,
      "outputs": [
        {
          "output_type": "stream",
          "name": "stdout",
          "text": [
            "+------------------------+------+\n",
            "|emp_title               |count |\n",
            "+------------------------+------+\n",
            "|Others                  |167002|\n",
            "|Teacher                 |38824 |\n",
            "|Manager                 |34298 |\n",
            "|Owner                   |21977 |\n",
            "|Registered Nurse        |15867 |\n",
            "|Driver                  |14753 |\n",
            "|RN                      |14737 |\n",
            "|Supervisor              |14297 |\n",
            "|Sales                   |13050 |\n",
            "|Project Manager         |10971 |\n",
            "|Office Manager          |9772  |\n",
            "|General Manager         |9251  |\n",
            "|Director                |8934  |\n",
            "|owner                   |8507  |\n",
            "|President               |7660  |\n",
            "|Engineer                |7304  |\n",
            "|manager                 |7060  |\n",
            "|teacher                 |6692  |\n",
            "|Operations Manager      |6128  |\n",
            "|Vice President          |5874  |\n",
            "|Accountant              |5596  |\n",
            "|Sales Manager           |5408  |\n",
            "|driver                  |5386  |\n",
            "|Attorney                |5365  |\n",
            "|Administrative Assistant|5270  |\n",
            "|Nurse                   |5189  |\n",
            "|Truck Driver            |4911  |\n",
            "|Account Manager         |4727  |\n",
            "|Police Officer          |4572  |\n",
            "|Technician              |4525  |\n",
            "+------------------------+------+\n",
            "only showing top 30 rows\n",
            "\n"
          ]
        }
      ]
    },
    {
      "cell_type": "code",
      "source": [
        "df.select(columns_B7).filter(col(\"emp_title\").isNull()).count()"
      ],
      "metadata": {
        "colab": {
          "base_uri": "https://localhost:8080/"
        },
        "id": "QU6erSUHWtSA",
        "outputId": "323f33a3-43cc-4f79-efca-51005e67f74c"
      },
      "execution_count": null,
      "outputs": [
        {
          "output_type": "execute_result",
          "data": {
            "text/plain": [
              "0"
            ]
          },
          "metadata": {},
          "execution_count": 35
        }
      ]
    },
    {
      "cell_type": "code",
      "source": [
        "df.groupBy(\"emp_title\").count().orderBy(desc(\"count\")).show(30,False)"
      ],
      "metadata": {
        "colab": {
          "base_uri": "https://localhost:8080/"
        },
        "id": "qTsSJoMWWtO5",
        "outputId": "8fcb8081-cb53-442b-834b-eb8f425f7407"
      },
      "execution_count": null,
      "outputs": [
        {
          "output_type": "stream",
          "name": "stdout",
          "text": [
            "+------------------------+------+\n",
            "|emp_title               |count |\n",
            "+------------------------+------+\n",
            "|Others                  |167002|\n",
            "|Teacher                 |38824 |\n",
            "|Manager                 |34298 |\n",
            "|Owner                   |21977 |\n",
            "|Registered Nurse        |15867 |\n",
            "|Driver                  |14753 |\n",
            "|RN                      |14737 |\n",
            "|Supervisor              |14297 |\n",
            "|Sales                   |13050 |\n",
            "|Project Manager         |10971 |\n",
            "|Office Manager          |9772  |\n",
            "|General Manager         |9251  |\n",
            "|Director                |8934  |\n",
            "|owner                   |8507  |\n",
            "|President               |7660  |\n",
            "|Engineer                |7304  |\n",
            "|manager                 |7060  |\n",
            "|teacher                 |6692  |\n",
            "|Operations Manager      |6128  |\n",
            "|Vice President          |5874  |\n",
            "|Accountant              |5596  |\n",
            "|Sales Manager           |5408  |\n",
            "|driver                  |5386  |\n",
            "|Attorney                |5365  |\n",
            "|Administrative Assistant|5270  |\n",
            "|Nurse                   |5189  |\n",
            "|Truck Driver            |4911  |\n",
            "|Account Manager         |4727  |\n",
            "|Police Officer          |4572  |\n",
            "|Technician              |4525  |\n",
            "+------------------------+------+\n",
            "only showing top 30 rows\n",
            "\n"
          ]
        }
      ]
    },
    {
      "cell_type": "code",
      "source": [
        "df.select(\"emp_title\").distinct().count()"
      ],
      "metadata": {
        "colab": {
          "base_uri": "https://localhost:8080/"
        },
        "id": "gHY6CHdkWtLN",
        "outputId": "124d6c60-f428-4558-b4a2-d34667ee4731"
      },
      "execution_count": null,
      "outputs": [
        {
          "output_type": "execute_result",
          "data": {
            "text/plain": [
              "512695"
            ]
          },
          "metadata": {},
          "execution_count": 37
        }
      ]
    },
    {
      "cell_type": "code",
      "source": [
        "df.select(\"emp_length\").distinct().show(20,False)"
      ],
      "metadata": {
        "colab": {
          "base_uri": "https://localhost:8080/"
        },
        "id": "GvaaIcy-WtIR",
        "outputId": "2f538d80-b2d8-4410-a71d-5a8e8c916eff"
      },
      "execution_count": null,
      "outputs": [
        {
          "output_type": "stream",
          "name": "stdout",
          "text": [
            "+----------+\n",
            "|emp_length|\n",
            "+----------+\n",
            "|5 years   |\n",
            "|9 years   |\n",
            "| reactors\"|\n",
            "|1 year    |\n",
            "|2 years   |\n",
            "|7 years   |\n",
            "|8 years   |\n",
            "|4 years   |\n",
            "|6 years   |\n",
            "|3 years   |\n",
            "|10+ years |\n",
            "|< 1 year  |\n",
            "|NULL      |\n",
            "+----------+\n",
            "\n"
          ]
        }
      ]
    },
    {
      "cell_type": "code",
      "source": [
        "df.select(columns_A7).filter(col(\"emp_length\") ==' reactors\"').show(5)"
      ],
      "metadata": {
        "id": "t_HDxkZ6WtFp",
        "colab": {
          "base_uri": "https://localhost:8080/"
        },
        "outputId": "65ef19b0-765a-4cbc-82af-958c244e6455"
      },
      "execution_count": null,
      "outputs": [
        {
          "output_type": "stream",
          "name": "stdout",
          "text": [
            "+--------+---------+---------+-----------+---------------+----------+--------+\n",
            "|      id|member_id|loan_amnt|funded_amnt|funded_amnt_inv|      term|int_rate|\n",
            "+--------+---------+---------+-----------+---------------+----------+--------+\n",
            "|61400928|     NULL|  10500.0|    10500.0|        10500.0| 60 months|   10.99|\n",
            "+--------+---------+---------+-----------+---------------+----------+--------+\n",
            "\n"
          ]
        }
      ]
    },
    {
      "cell_type": "code",
      "source": [
        "df.select(columns_B7).filter(col('emp_length') ==' reactors\"').show(5)"
      ],
      "metadata": {
        "id": "2b57MQbZWtCn",
        "colab": {
          "base_uri": "https://localhost:8080/"
        },
        "outputId": "c3f695a3-daa6-4a95-96aa-463d6ee7fd55"
      },
      "execution_count": null,
      "outputs": [
        {
          "output_type": "stream",
          "name": "stdout",
          "text": [
            "+-----------+-----+---------+------------------+----------+--------------+----------+\n",
            "|installment|grade|sub_grade|         emp_title|emp_length|home_ownership|annual_inc|\n",
            "+-----------+-----+---------+------------------+----------+--------------+----------+\n",
            "|     228.25|    B|       B4|\"Coil Winder \"\"B\"\"| reactors\"|       2 years|  MORTGAGE|\n",
            "+-----------+-----+---------+------------------+----------+--------------+----------+\n",
            "\n"
          ]
        }
      ]
    },
    {
      "cell_type": "code",
      "source": [
        "df.select(\"home_ownership\").distinct().show(10)"
      ],
      "metadata": {
        "id": "b4TOxCywWs_t",
        "colab": {
          "base_uri": "https://localhost:8080/"
        },
        "outputId": "1cc74dba-23d9-4140-d897-d3f7af80a2a9"
      },
      "execution_count": null,
      "outputs": [
        {
          "output_type": "stream",
          "name": "stdout",
          "text": [
            "+--------------+\n",
            "|home_ownership|\n",
            "+--------------+\n",
            "|           OWN|\n",
            "|          RENT|\n",
            "|       2 years|\n",
            "|      MORTGAGE|\n",
            "|           ANY|\n",
            "|          NONE|\n",
            "|         OTHER|\n",
            "|          NULL|\n",
            "+--------------+\n",
            "\n"
          ]
        }
      ]
    },
    {
      "cell_type": "code",
      "source": [
        "df.select(\"emp_length\").distinct().show(20,False)"
      ],
      "metadata": {
        "id": "W5CwzFI1Ws74",
        "colab": {
          "base_uri": "https://localhost:8080/"
        },
        "outputId": "53b00f54-73c0-4e48-fa76-624c49e4f042"
      },
      "execution_count": null,
      "outputs": [
        {
          "output_type": "stream",
          "name": "stdout",
          "text": [
            "+----------+\n",
            "|emp_length|\n",
            "+----------+\n",
            "|5 years   |\n",
            "|9 years   |\n",
            "| reactors\"|\n",
            "|1 year    |\n",
            "|2 years   |\n",
            "|7 years   |\n",
            "|8 years   |\n",
            "|4 years   |\n",
            "|6 years   |\n",
            "|3 years   |\n",
            "|10+ years |\n",
            "|< 1 year  |\n",
            "|NULL      |\n",
            "+----------+\n",
            "\n"
          ]
        }
      ]
    },
    {
      "cell_type": "code",
      "source": [
        "# After correction (adding escape to the csv file link)\n",
        "\n"
      ],
      "metadata": {
        "id": "-yrM_yJJPe1G"
      },
      "execution_count": null,
      "outputs": []
    },
    {
      "cell_type": "code",
      "source": [
        "df.select(\"emp_length\").distinct().show(20,False)"
      ],
      "metadata": {
        "colab": {
          "base_uri": "https://localhost:8080/"
        },
        "id": "Q8IEuHNRPeyX",
        "outputId": "ae4e9a3f-356c-4e45-9005-55212c63b5f3"
      },
      "execution_count": null,
      "outputs": [
        {
          "output_type": "stream",
          "name": "stdout",
          "text": [
            "+----------+\n",
            "|emp_length|\n",
            "+----------+\n",
            "|5 years   |\n",
            "|9 years   |\n",
            "|1 year    |\n",
            "|2 years   |\n",
            "|7 years   |\n",
            "|8 years   |\n",
            "|4 years   |\n",
            "|6 years   |\n",
            "|3 years   |\n",
            "|10+ years |\n",
            "|< 1 year  |\n",
            "|NULL      |\n",
            "+----------+\n",
            "\n"
          ]
        }
      ]
    },
    {
      "cell_type": "code",
      "source": [
        "df1.select(columns_A7).filter(col('emp_length') ==' reactors\"').show(20, False)"
      ],
      "metadata": {
        "colab": {
          "base_uri": "https://localhost:8080/",
          "height": 146
        },
        "id": "4GCv398iPewB",
        "outputId": "c5a8f326-a4d6-465b-f419-b5ffb130f754"
      },
      "execution_count": null,
      "outputs": [
        {
          "output_type": "error",
          "ename": "AttributeError",
          "evalue": "'NoneType' object has no attribute 'select'",
          "traceback": [
            "\u001b[0;31m---------------------------------------------------------------------------\u001b[0m",
            "\u001b[0;31mAttributeError\u001b[0m                            Traceback (most recent call last)",
            "\u001b[0;32m<ipython-input-91-9cc7475212d5>\u001b[0m in \u001b[0;36m<cell line: 1>\u001b[0;34m()\u001b[0m\n\u001b[0;32m----> 1\u001b[0;31m \u001b[0mdf1\u001b[0m\u001b[0;34m.\u001b[0m\u001b[0mselect\u001b[0m\u001b[0;34m(\u001b[0m\u001b[0mcolumns_A7\u001b[0m\u001b[0;34m)\u001b[0m\u001b[0;34m.\u001b[0m\u001b[0mfilter\u001b[0m\u001b[0;34m(\u001b[0m\u001b[0mcol\u001b[0m\u001b[0;34m(\u001b[0m\u001b[0;34m'emp_length'\u001b[0m\u001b[0;34m)\u001b[0m \u001b[0;34m==\u001b[0m\u001b[0;34m' reactors\"'\u001b[0m\u001b[0;34m)\u001b[0m\u001b[0;34m.\u001b[0m\u001b[0mshow\u001b[0m\u001b[0;34m(\u001b[0m\u001b[0;36m20\u001b[0m\u001b[0;34m,\u001b[0m \u001b[0;32mFalse\u001b[0m\u001b[0;34m)\u001b[0m\u001b[0;34m\u001b[0m\u001b[0;34m\u001b[0m\u001b[0m\n\u001b[0m",
            "\u001b[0;31mAttributeError\u001b[0m: 'NoneType' object has no attribute 'select'"
          ]
        }
      ]
    },
    {
      "cell_type": "code",
      "source": [
        "df.select(columns_B7).filter(col('emp_length') ==' reactors\"').show(20, False)"
      ],
      "metadata": {
        "colab": {
          "base_uri": "https://localhost:8080/"
        },
        "id": "iM_CDQ81PetJ",
        "outputId": "5b57b08a-5aab-4097-9a10-ff7ccc4f70a0"
      },
      "execution_count": null,
      "outputs": [
        {
          "output_type": "stream",
          "name": "stdout",
          "text": [
            "+-----------+-----+---------+---------+----------+--------------+----------+\n",
            "|installment|grade|sub_grade|emp_title|emp_length|home_ownership|annual_inc|\n",
            "+-----------+-----+---------+---------+----------+--------------+----------+\n",
            "+-----------+-----+---------+---------+----------+--------------+----------+\n",
            "\n"
          ]
        }
      ]
    },
    {
      "cell_type": "code",
      "source": [],
      "metadata": {
        "id": "ySkvmK8RPep3"
      },
      "execution_count": null,
      "outputs": []
    },
    {
      "cell_type": "code",
      "source": [],
      "metadata": {
        "id": "zX-xY810Penj"
      },
      "execution_count": null,
      "outputs": []
    },
    {
      "cell_type": "code",
      "source": [],
      "metadata": {
        "id": "d2C_9dZRPekn"
      },
      "execution_count": null,
      "outputs": []
    },
    {
      "cell_type": "code",
      "source": [],
      "metadata": {
        "id": "bIVHRjgdPehl"
      },
      "execution_count": null,
      "outputs": []
    },
    {
      "cell_type": "code",
      "source": [],
      "metadata": {
        "id": "ZMVyOdtZPeer"
      },
      "execution_count": null,
      "outputs": []
    },
    {
      "cell_type": "code",
      "source": [],
      "metadata": {
        "id": "h1dMqLQFPecG"
      },
      "execution_count": null,
      "outputs": []
    },
    {
      "cell_type": "code",
      "source": [],
      "metadata": {
        "id": "I3YDXnq6PeZS"
      },
      "execution_count": null,
      "outputs": []
    },
    {
      "cell_type": "code",
      "source": [],
      "metadata": {
        "id": "zDiiqJtkPeWf"
      },
      "execution_count": null,
      "outputs": []
    },
    {
      "cell_type": "code",
      "source": [],
      "metadata": {
        "id": "LckkTcQIPeTk"
      },
      "execution_count": null,
      "outputs": []
    },
    {
      "cell_type": "code",
      "source": [],
      "metadata": {
        "id": "f29KK9s8PeQ3"
      },
      "execution_count": null,
      "outputs": []
    },
    {
      "cell_type": "code",
      "source": [],
      "metadata": {
        "id": "bBn_nIvXPeN-"
      },
      "execution_count": null,
      "outputs": []
    },
    {
      "cell_type": "code",
      "source": [],
      "metadata": {
        "id": "RQv46JnoPeLc"
      },
      "execution_count": null,
      "outputs": []
    },
    {
      "cell_type": "code",
      "source": [],
      "metadata": {
        "id": "HXxy27aZPeIc"
      },
      "execution_count": null,
      "outputs": []
    },
    {
      "cell_type": "code",
      "source": [],
      "metadata": {
        "id": "59SHv-jnPeFX"
      },
      "execution_count": null,
      "outputs": []
    },
    {
      "cell_type": "code",
      "source": [],
      "metadata": {
        "id": "0oZH4TPpPeCU"
      },
      "execution_count": null,
      "outputs": []
    },
    {
      "cell_type": "code",
      "source": [],
      "metadata": {
        "id": "aaS9u0zlPd7T"
      },
      "execution_count": null,
      "outputs": []
    },
    {
      "cell_type": "code",
      "source": [],
      "metadata": {
        "id": "B4o1kgPdPd4h"
      },
      "execution_count": null,
      "outputs": []
    },
    {
      "cell_type": "code",
      "source": [],
      "metadata": {
        "id": "i10aPTHCPd1z"
      },
      "execution_count": null,
      "outputs": []
    },
    {
      "cell_type": "code",
      "source": [],
      "metadata": {
        "id": "V6ruvQ3vPdw5"
      },
      "execution_count": null,
      "outputs": []
    },
    {
      "cell_type": "code",
      "source": [],
      "metadata": {
        "id": "bX3XByXWPduZ"
      },
      "execution_count": null,
      "outputs": []
    },
    {
      "cell_type": "code",
      "source": [],
      "metadata": {
        "id": "ATQ_CbYWPdsI"
      },
      "execution_count": null,
      "outputs": []
    },
    {
      "cell_type": "code",
      "source": [],
      "metadata": {
        "id": "NWS2HEDvPdqH"
      },
      "execution_count": null,
      "outputs": []
    },
    {
      "cell_type": "code",
      "source": [],
      "metadata": {
        "id": "CCKWf9XsPdnZ"
      },
      "execution_count": null,
      "outputs": []
    },
    {
      "cell_type": "code",
      "source": [],
      "metadata": {
        "id": "1oxYiiGVPdko"
      },
      "execution_count": null,
      "outputs": []
    },
    {
      "cell_type": "code",
      "source": [],
      "metadata": {
        "id": "VShKe4pYPdiU"
      },
      "execution_count": null,
      "outputs": []
    },
    {
      "cell_type": "code",
      "source": [],
      "metadata": {
        "id": "gEhcLEw3Pdfl"
      },
      "execution_count": null,
      "outputs": []
    },
    {
      "cell_type": "code",
      "source": [],
      "metadata": {
        "id": "U6BbmTvPPdcv"
      },
      "execution_count": null,
      "outputs": []
    },
    {
      "cell_type": "code",
      "source": [],
      "metadata": {
        "id": "Pb0Ox1IFPdZ-"
      },
      "execution_count": null,
      "outputs": []
    },
    {
      "cell_type": "code",
      "source": [],
      "metadata": {
        "id": "TUPYLCH0PdW2"
      },
      "execution_count": null,
      "outputs": []
    },
    {
      "cell_type": "code",
      "source": [],
      "metadata": {
        "id": "7llcw0RMWsxD"
      },
      "execution_count": null,
      "outputs": []
    },
    {
      "cell_type": "code",
      "source": [],
      "metadata": {
        "id": "7Dk3rkyJWsuJ"
      },
      "execution_count": null,
      "outputs": []
    },
    {
      "cell_type": "code",
      "source": [],
      "metadata": {
        "id": "TysKvHzyWsXx"
      },
      "execution_count": null,
      "outputs": []
    }
  ]
}