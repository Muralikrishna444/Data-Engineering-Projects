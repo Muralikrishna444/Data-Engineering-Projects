{
  "nbformat": 4,
  "nbformat_minor": 0,
  "metadata": {
    "colab": {
      "provenance": [],
      "authorship_tag": "ABX9TyPUVN2P2VLO+N/oALbYI5jY",
      "include_colab_link": true
    },
    "kernelspec": {
      "name": "python3",
      "display_name": "Python 3"
    },
    "language_info": {
      "name": "python"
    }
  },
  "cells": [
    {
      "cell_type": "markdown",
      "metadata": {
        "id": "view-in-github",
        "colab_type": "text"
      },
      "source": [
        "<a href=\"https://colab.research.google.com/github/Muralikrishna444/Data-Engineering-Projects/blob/main/pyspark_groupby_and_adding_new_columns.ipynb\" target=\"_parent\"><img src=\"https://colab.research.google.com/assets/colab-badge.svg\" alt=\"Open In Colab\"/></a>"
      ]
    },
    {
      "cell_type": "code",
      "execution_count": null,
      "metadata": {
        "id": "vQbuSN-uRUCp"
      },
      "outputs": [],
      "source": [
        "import pyspark\n",
        "from pyspark import SparkContext, SparkConf\n",
        "from pyspark.sql import SparkSession\n",
        "c = pyspark.SparkConf().setAppName(\"test_app\").setMaster(\"local\")\n",
        "sc = pyspark.SparkContext(conf = c)\n",
        "spark = SparkSession(sc)"
      ]
    },
    {
      "cell_type": "code",
      "source": [
        "from pyspark.sql.functions import *"
      ],
      "metadata": {
        "id": "yXA-hie7SXjQ"
      },
      "execution_count": null,
      "outputs": []
    },
    {
      "cell_type": "code",
      "source": [
        "data = spark.read.csv(\"/content/Sample - Superstoredata.csv\",header = True,inferSchema = True)"
      ],
      "metadata": {
        "id": "YN2aeP5hSXfr"
      },
      "execution_count": null,
      "outputs": []
    },
    {
      "cell_type": "code",
      "source": [
        "data.show(5)"
      ],
      "metadata": {
        "colab": {
          "base_uri": "https://localhost:8080/"
        },
        "id": "1Qx6hI_iSXc7",
        "outputId": "261d30a7-a575-4677-8c70-10bd3ebd22bb"
      },
      "execution_count": null,
      "outputs": [
        {
          "output_type": "stream",
          "name": "stdout",
          "text": [
            "+------+--------------+----------+----------+--------------+-----------+-------------+-----------+--------------+-------------+----------+-----------+-------+---------------+----------+------------+--------------------+---------+--------+--------+----------+\n",
            "|Row ID|      Order ID|Order Date| Ship Date|     Ship Mode|Customer ID|Customer Name|    Segment|Country/Region|         City|     State|Postal Code| Region|     Product ID|  Category|Sub-Category|        Product Name|    Sales|Quantity|Discount|    Profit|\n",
            "+------+--------------+----------+----------+--------------+-----------+-------------+-----------+--------------+-------------+----------+-----------+-------+---------------+----------+------------+--------------------+---------+--------+--------+----------+\n",
            "|  2698|CA-2016-145317| 3/18/2016| 3/23/2016|Standard Class|   SM-20320|  Sean Miller|Home Office| United States| Jacksonville|   Florida|      32216|  South|TEC-MA-10002412|Technology|    Machines|Cisco TelePresenc...| 22638.48|       6|     0.5|-1811.0784|\n",
            "|  6827|CA-2018-118689| 10/2/2018| 10/9/2018|Standard Class|   TC-20980| Tamara Chand|  Corporate| United States|    Lafayette|   Indiana|      47905|Central|TEC-CO-10004722|Technology|     Copiers|Canon imageCLASS ...|  7499.95|       5|       0|  8399.976|\n",
            "|  8154|CA-2019-140151| 3/23/2019| 3/25/2019|   First Class|   RB-19360| Raymond Buch|   Consumer| United States|      Seattle|Washington|      98115|   West|TEC-CO-10004722|Technology|     Copiers|Canon imageCLASS ...|  3999.96|       4|       0| 6719.9808|\n",
            "|  2624|CA-2019-127180|10/22/2019|10/24/2019|   First Class|   TA-21385| Tom Ashbrook|Home Office| United States|New York City|  New York|      10024|   East|TEC-CO-10004722|Technology|     Copiers|Canon imageCLASS ...|11199.968|       4|     0.2| 3919.9888|\n",
            "|  4191|CA-2019-166709|11/17/2019|11/22/2019|Standard Class|   HL-15040| Hunter Lopez|   Consumer| United States|       Newark|  Delaware|      19711|   East|TEC-CO-10004722|Technology|     Copiers|Canon imageCLASS ...|   499.97|       3|       0| 5039.9856|\n",
            "+------+--------------+----------+----------+--------------+-----------+-------------+-----------+--------------+-------------+----------+-----------+-------+---------------+----------+------------+--------------------+---------+--------+--------+----------+\n",
            "only showing top 5 rows\n",
            "\n"
          ]
        }
      ]
    },
    {
      "cell_type": "code",
      "source": [
        "data.printSchema()"
      ],
      "metadata": {
        "colab": {
          "base_uri": "https://localhost:8080/"
        },
        "id": "zDmGFP2iSXZF",
        "outputId": "3a0c5b86-8b4f-4fc6-c9d3-141d8b057587"
      },
      "execution_count": null,
      "outputs": [
        {
          "output_type": "stream",
          "name": "stdout",
          "text": [
            "root\n",
            " |-- Row ID: integer (nullable = true)\n",
            " |-- Order ID: string (nullable = true)\n",
            " |-- Order Date: string (nullable = true)\n",
            " |-- Ship Date: string (nullable = true)\n",
            " |-- Ship Mode: string (nullable = true)\n",
            " |-- Customer ID: string (nullable = true)\n",
            " |-- Customer Name: string (nullable = true)\n",
            " |-- Segment: string (nullable = true)\n",
            " |-- Country/Region: string (nullable = true)\n",
            " |-- City: string (nullable = true)\n",
            " |-- State: string (nullable = true)\n",
            " |-- Postal Code: integer (nullable = true)\n",
            " |-- Region: string (nullable = true)\n",
            " |-- Product ID: string (nullable = true)\n",
            " |-- Category: string (nullable = true)\n",
            " |-- Sub-Category: string (nullable = true)\n",
            " |-- Product Name: string (nullable = true)\n",
            " |-- Sales: string (nullable = true)\n",
            " |-- Quantity: string (nullable = true)\n",
            " |-- Discount: string (nullable = true)\n",
            " |-- Profit: double (nullable = true)\n",
            "\n"
          ]
        }
      ]
    },
    {
      "cell_type": "code",
      "source": [
        "superstoredata1 = data.select(\"Segment\",\"Region\",\"Category\",\"Sales\",\"Profit\",\"Quantity\")"
      ],
      "metadata": {
        "id": "G9_yXXXGSXVL"
      },
      "execution_count": null,
      "outputs": []
    },
    {
      "cell_type": "code",
      "source": [
        "superstoredata1.show(5)"
      ],
      "metadata": {
        "colab": {
          "base_uri": "https://localhost:8080/"
        },
        "id": "xnkdcKN5SXSW",
        "outputId": "531114f2-51a3-4202-d4c8-b4b08ad9215c"
      },
      "execution_count": null,
      "outputs": [
        {
          "output_type": "stream",
          "name": "stdout",
          "text": [
            "+-----------+-------+----------+---------+----------+--------+\n",
            "|    Segment| Region|  Category|    Sales|    Profit|Quantity|\n",
            "+-----------+-------+----------+---------+----------+--------+\n",
            "|Home Office|  South|Technology| 22638.48|-1811.0784|       6|\n",
            "|  Corporate|Central|Technology|  7499.95|  8399.976|       5|\n",
            "|   Consumer|   West|Technology|  3999.96| 6719.9808|       4|\n",
            "|Home Office|   East|Technology|11199.968| 3919.9888|       4|\n",
            "|   Consumer|   East|Technology|   499.97| 5039.9856|       3|\n",
            "+-----------+-------+----------+---------+----------+--------+\n",
            "only showing top 5 rows\n",
            "\n"
          ]
        }
      ]
    },
    {
      "cell_type": "code",
      "source": [
        "superstoredata1.groupBy(\"Segment\").agg(sum(\"Sales\")).show(5)"
      ],
      "metadata": {
        "colab": {
          "base_uri": "https://localhost:8080/"
        },
        "id": "pyFyDzCfSXQB",
        "outputId": "fef35580-a7ad-4f02-b91d-43e904fcd6f6"
      },
      "execution_count": null,
      "outputs": [
        {
          "output_type": "stream",
          "name": "stdout",
          "text": [
            "+-----------+------------------+\n",
            "|    Segment|        sum(Sales)|\n",
            "+-----------+------------------+\n",
            "|   Consumer|1130165.7379999778|\n",
            "|Home Office|425679.16050000064|\n",
            "|  Corporate| 686604.5137999954|\n",
            "+-----------+------------------+\n",
            "\n"
          ]
        }
      ]
    },
    {
      "cell_type": "code",
      "source": [
        "superstoredata1.groupBy(\"Segment\",\"Region\").agg(sum(\"Sales\")).show(5)"
      ],
      "metadata": {
        "colab": {
          "base_uri": "https://localhost:8080/"
        },
        "id": "uuExCvlwSXNd",
        "outputId": "99898fee-b1ba-4644-b0a8-edf0258a549e"
      },
      "execution_count": null,
      "outputs": [
        {
          "output_type": "stream",
          "name": "stdout",
          "text": [
            "+-----------+-------+------------------+\n",
            "|    Segment| Region|        sum(Sales)|\n",
            "+-----------+-------+------------------+\n",
            "|Home Office|   West|134121.58299999963|\n",
            "|  Corporate|   West|221531.05649999995|\n",
            "|   Consumer|   West| 347818.7050000013|\n",
            "|   Consumer|   East|337820.21600000083|\n",
            "|Home Office|Central| 90750.61399999991|\n",
            "+-----------+-------+------------------+\n",
            "only showing top 5 rows\n",
            "\n"
          ]
        }
      ]
    },
    {
      "cell_type": "code",
      "source": [
        "superstoredata1.groupBy(\"Segment\",\"Region\").agg(sum(\"Sales\"),sum(\"Profit\")).show(5)"
      ],
      "metadata": {
        "colab": {
          "base_uri": "https://localhost:8080/"
        },
        "id": "fsM7IEpiSXLI",
        "outputId": "180f9a13-577b-487f-dfc2-3b98d6f98781"
      },
      "execution_count": null,
      "outputs": [
        {
          "output_type": "stream",
          "name": "stdout",
          "text": [
            "+-----------+-------+------------------+------------------+\n",
            "|    Segment| Region|        sum(Sales)|       sum(Profit)|\n",
            "+-----------+-------+------------------+------------------+\n",
            "|Home Office|   West|134121.58299999963| 16222.09459999998|\n",
            "|  Corporate|   West|221531.05649999995| 33939.59059999996|\n",
            "|   Consumer|   West| 347818.7050000013| 57142.01630000003|\n",
            "|   Consumer|   East|337820.21600000083|41338.061199999844|\n",
            "|Home Office|Central| 90750.61399999991|12427.244999999999|\n",
            "+-----------+-------+------------------+------------------+\n",
            "only showing top 5 rows\n",
            "\n"
          ]
        }
      ]
    },
    {
      "cell_type": "code",
      "source": [
        "superstoredata1.groupBy(\"Segment\",\"Region\").agg(sum(\"Sales\"),avg(\"Profit\")).show(5)"
      ],
      "metadata": {
        "colab": {
          "base_uri": "https://localhost:8080/"
        },
        "id": "MMDoh1oPSXJH",
        "outputId": "b37ed45b-511a-4c84-c11e-45ec68c4a6e1"
      },
      "execution_count": null,
      "outputs": [
        {
          "output_type": "stream",
          "name": "stdout",
          "text": [
            "+-----------+-------+------------------+------------------+\n",
            "|    Segment| Region|        sum(Sales)|       avg(Profit)|\n",
            "+-----------+-------+------------------+------------------+\n",
            "|Home Office|   West|134121.58299999963|28.409973029772296|\n",
            "|  Corporate|   West|221531.05649999995| 35.35374020833329|\n",
            "|   Consumer|   West| 347818.7050000013| 34.17584706937801|\n",
            "|   Consumer|   East|337820.21600000083| 28.14027311095973|\n",
            "|Home Office|Central| 90750.61399999991| 28.37270547945205|\n",
            "+-----------+-------+------------------+------------------+\n",
            "only showing top 5 rows\n",
            "\n"
          ]
        }
      ]
    },
    {
      "cell_type": "code",
      "source": [
        "superstoredata1.groupBy(\"Segment\",\"Region\").agg(sum(\"Sales\").alias(\"Total_Sales\"),avg(\"Profit\")).show(5)"
      ],
      "metadata": {
        "colab": {
          "base_uri": "https://localhost:8080/"
        },
        "id": "gRrUBg8ASXGZ",
        "outputId": "33ae7236-4031-4db5-e878-61c1267606d9"
      },
      "execution_count": null,
      "outputs": [
        {
          "output_type": "stream",
          "name": "stdout",
          "text": [
            "+-----------+-------+------------------+------------------+\n",
            "|    Segment| Region|       Total_Sales|       avg(Profit)|\n",
            "+-----------+-------+------------------+------------------+\n",
            "|Home Office|   West|134121.58299999963|28.409973029772296|\n",
            "|  Corporate|   West|221531.05649999995| 35.35374020833329|\n",
            "|   Consumer|   West| 347818.7050000013| 34.17584706937801|\n",
            "|   Consumer|   East|337820.21600000083| 28.14027311095973|\n",
            "|Home Office|Central| 90750.61399999991| 28.37270547945205|\n",
            "+-----------+-------+------------------+------------------+\n",
            "only showing top 5 rows\n",
            "\n"
          ]
        }
      ]
    },
    {
      "cell_type": "code",
      "source": [
        "superstoredata1.groupBy(\"Segment\",\"Region\").agg(sum(\"Sales\").alias(\"Total_Sales\"),avg(\"Profit\").alias(\"Average_Profit\")).show(5)"
      ],
      "metadata": {
        "colab": {
          "base_uri": "https://localhost:8080/"
        },
        "id": "0Q5seBF-SXEI",
        "outputId": "11e1ef0a-6bdc-4300-e3b4-eeda61969758"
      },
      "execution_count": null,
      "outputs": [
        {
          "output_type": "stream",
          "name": "stdout",
          "text": [
            "+-----------+-------+------------------+------------------+\n",
            "|    Segment| Region|       Total_Sales|    Average_Profit|\n",
            "+-----------+-------+------------------+------------------+\n",
            "|Home Office|   West|134121.58299999963|28.409973029772296|\n",
            "|  Corporate|   West|221531.05649999995| 35.35374020833329|\n",
            "|   Consumer|   West| 347818.7050000013| 34.17584706937801|\n",
            "|   Consumer|   East|337820.21600000083| 28.14027311095973|\n",
            "|Home Office|Central| 90750.61399999991| 28.37270547945205|\n",
            "+-----------+-------+------------------+------------------+\n",
            "only showing top 5 rows\n",
            "\n"
          ]
        }
      ]
    },
    {
      "cell_type": "code",
      "source": [
        "superstoredata1.groupBy(\"Segment\",\"Region\")\\\n",
        ".agg(sum(\"Sales\")\\\n",
        ".alias(\"Total_Sales\"))\\\n",
        ".sort(desc(\"Total_Sales\")).show(5)"
      ],
      "metadata": {
        "colab": {
          "base_uri": "https://localhost:8080/"
        },
        "id": "aK1GyqGiSXBh",
        "outputId": "0dd2264e-6f8b-4ec4-8584-f253177eadbe"
      },
      "execution_count": null,
      "outputs": [
        {
          "output_type": "stream",
          "name": "stdout",
          "text": [
            "+---------+-------+------------------+\n",
            "|  Segment| Region|       Total_Sales|\n",
            "+---------+-------+------------------+\n",
            "| Consumer|   West| 347818.7050000013|\n",
            "| Consumer|   East|337820.21600000083|\n",
            "| Consumer|Central|249892.13200000004|\n",
            "|Corporate|   West|221531.05649999995|\n",
            "|Corporate|   East|        197498.142|\n",
            "+---------+-------+------------------+\n",
            "only showing top 5 rows\n",
            "\n"
          ]
        }
      ]
    },
    {
      "cell_type": "code",
      "source": [
        "superstoredata1.groupBy(\"Segment\",\"Region\")\\\n",
        ".agg(sum(\"Sales\").alias(\"Total_Sales\"),\\\n",
        "    sum(\"Profit\").alias(\"Total_Profit\"),\\\n",
        "     avg(\"Quantity\").alias(\"Average_Quantity\"))\\\n",
        ".filter((col(\"Average_Quantity\")>6)& (col(\"Segment\") == \"Corporate\"))\\\n",
        ".orderBy(asc(\"Total_Sales\"))\\\n",
        ".show(5)\n",
        "\n",
        "\n",
        "\n"
      ],
      "metadata": {
        "colab": {
          "base_uri": "https://localhost:8080/"
        },
        "id": "b_yVWDkQSW-r",
        "outputId": "91b058a5-9afc-46e2-c30d-f238e832c05f"
      },
      "execution_count": null,
      "outputs": [
        {
          "output_type": "stream",
          "name": "stdout",
          "text": [
            "+---------+------+------------------+------------------+-----------------+\n",
            "|  Segment|Region|       Total_Sales|      Total_Profit| Average_Quantity|\n",
            "+---------+------+------------------+------------------+-----------------+\n",
            "|Corporate|  East|        197498.142|23648.914600000033|7.036721778791334|\n",
            "|Corporate|  West|221531.05649999995| 33939.59059999996|7.623345188284517|\n",
            "+---------+------+------------------+------------------+-----------------+\n",
            "\n"
          ]
        }
      ]
    },
    {
      "cell_type": "code",
      "source": [
        "data = spark.read.csv(\"/content/Bike_Data1.csv\",header = True, inferSchema = True)"
      ],
      "metadata": {
        "id": "qxxIoXtYSW54"
      },
      "execution_count": null,
      "outputs": []
    },
    {
      "cell_type": "code",
      "source": [
        "data.show(5)"
      ],
      "metadata": {
        "colab": {
          "base_uri": "https://localhost:8080/"
        },
        "id": "UUWmsvHbHi3b",
        "outputId": "11918734-7592-4812-8afa-842410397561"
      },
      "execution_count": null,
      "outputs": [
        {
          "output_type": "stream",
          "name": "stdout",
          "text": [
            "+-------------+-------------+--------------------+----------------+---------------+--------------------+------+---------+---------+---------+--------+\n",
            "|       Region|      Country|            Customer|Business Segment|       Category|               Model| Color|SalesDate|ListPrice|UnitPrice|OrderQty|\n",
            "+-------------+-------------+--------------------+----------------+---------------+--------------------+------+---------+---------+---------+--------+\n",
            "|North America|United States|Advanced Bike Com...|      Components|    Road Frames|       LL Road Frame|   Red| 4/1/2020|   337.22|   183.94|       1|\n",
            "|North America|United States|Central Discount ...|           Bikes| Mountain Bikes|        Mountain-100|Silver| 4/1/2020| 3,399.99| 2,039.99|       1|\n",
            "|North America|United States|Leading Sales & R...|        Clothing|        Jerseys|Long-Sleeve Logo ...| Multi| 4/1/2020|    49.99|    28.84|       6|\n",
            "|North America|United States|        Paint Supply|      Components|Mountain Frames|   HL Mountain Frame| Black| 4/1/2020| 1,349.60|    714.7|       2|\n",
            "|North America|United States|Scooters and Bike...|           Bikes|     Road Bikes|            Road-450|   Red| 4/1/2020| 1,457.99|   874.79|       2|\n",
            "+-------------+-------------+--------------------+----------------+---------------+--------------------+------+---------+---------+---------+--------+\n",
            "only showing top 5 rows\n",
            "\n"
          ]
        }
      ]
    },
    {
      "cell_type": "code",
      "source": [
        "data.columns"
      ],
      "metadata": {
        "colab": {
          "base_uri": "https://localhost:8080/"
        },
        "id": "lNOm-AyTHi1B",
        "outputId": "d77dfc0c-faa7-4a0d-d9f6-67465a88ca1a"
      },
      "execution_count": null,
      "outputs": [
        {
          "output_type": "execute_result",
          "data": {
            "text/plain": [
              "['Region',\n",
              " 'Country',\n",
              " 'Customer',\n",
              " 'Business Segment',\n",
              " 'Category',\n",
              " 'Model',\n",
              " 'Color',\n",
              " 'SalesDate',\n",
              " 'ListPrice',\n",
              " 'UnitPrice',\n",
              " 'OrderQty']"
            ]
          },
          "metadata": {},
          "execution_count": 13
        }
      ]
    },
    {
      "cell_type": "code",
      "source": [
        "data.printSchema()"
      ],
      "metadata": {
        "colab": {
          "base_uri": "https://localhost:8080/"
        },
        "id": "a586N2BGHizA",
        "outputId": "af73b647-bc8c-4ff2-e682-692fb5021189"
      },
      "execution_count": null,
      "outputs": [
        {
          "output_type": "stream",
          "name": "stdout",
          "text": [
            "root\n",
            " |-- Region: string (nullable = true)\n",
            " |-- Country: string (nullable = true)\n",
            " |-- Customer: string (nullable = true)\n",
            " |-- Business Segment: string (nullable = true)\n",
            " |-- Category: string (nullable = true)\n",
            " |-- Model: string (nullable = true)\n",
            " |-- Color: string (nullable = true)\n",
            " |-- SalesDate: string (nullable = true)\n",
            " |-- ListPrice: string (nullable = true)\n",
            " |-- UnitPrice: string (nullable = true)\n",
            " |-- OrderQty: integer (nullable = true)\n",
            "\n"
          ]
        }
      ]
    },
    {
      "cell_type": "code",
      "source": [
        "data.show(5, False)"
      ],
      "metadata": {
        "colab": {
          "base_uri": "https://localhost:8080/"
        },
        "id": "Cg4KYT-GHixR",
        "outputId": "0864f759-77f4-4a09-f3be-d388e6156a13"
      },
      "execution_count": null,
      "outputs": [
        {
          "output_type": "stream",
          "name": "stdout",
          "text": [
            "+-------------+-------------+------------------------+----------------+---------------+-----------------------+------+---------+---------+---------+--------+\n",
            "|Region       |Country      |Customer                |Business Segment|Category       |Model                  |Color |SalesDate|ListPrice|UnitPrice|OrderQty|\n",
            "+-------------+-------------+------------------------+----------------+---------------+-----------------------+------+---------+---------+---------+--------+\n",
            "|North America|United States|Advanced Bike Components|Components      |Road Frames    |LL Road Frame          |Red   |4/1/2020 |337.22   |183.94   |1       |\n",
            "|North America|United States|Central Discount Store  |Bikes           |Mountain Bikes |Mountain-100           |Silver|4/1/2020 |3,399.99 |2,039.99 |1       |\n",
            "|North America|United States|Leading Sales & Repair  |Clothing        |Jerseys        |Long-Sleeve Logo Jersey|Multi |4/1/2020 |49.99    |28.84    |6       |\n",
            "|North America|United States|Paint Supply            |Components      |Mountain Frames|HL Mountain Frame      |Black |4/1/2020 |1,349.60 |714.7    |2       |\n",
            "|North America|United States|Scooters and Bikes Store|Bikes           |Road Bikes     |Road-450               |Red   |4/1/2020 |1,457.99 |874.79   |2       |\n",
            "+-------------+-------------+------------------------+----------------+---------------+-----------------------+------+---------+---------+---------+--------+\n",
            "only showing top 5 rows\n",
            "\n"
          ]
        }
      ]
    },
    {
      "cell_type": "code",
      "source": [
        "data = data.withColumn(\"Sales\", col(\"ListPrice\") * col(\"OrderQty\"))\n",
        "# dat[\"Sales\"] = data[\"ListPrice\"] * data[\"OrderQty\"] # In Pandas"
      ],
      "metadata": {
        "id": "oF_Wejp8HiuS"
      },
      "execution_count": null,
      "outputs": []
    },
    {
      "cell_type": "code",
      "source": [
        "data.show(5)"
      ],
      "metadata": {
        "colab": {
          "base_uri": "https://localhost:8080/"
        },
        "id": "G-b6gMe8Hirp",
        "outputId": "72c12ffe-1363-4e98-d98e-abd6f14b0ee2"
      },
      "execution_count": null,
      "outputs": [
        {
          "output_type": "stream",
          "name": "stdout",
          "text": [
            "+-------------+-------------+--------------------+----------------+---------------+--------------------+------+---------+---------+---------+--------+------+\n",
            "|       Region|      Country|            Customer|Business Segment|       Category|               Model| Color|SalesDate|ListPrice|UnitPrice|OrderQty| Sales|\n",
            "+-------------+-------------+--------------------+----------------+---------------+--------------------+------+---------+---------+---------+--------+------+\n",
            "|North America|United States|Advanced Bike Com...|      Components|    Road Frames|       LL Road Frame|   Red| 4/1/2020|   337.22|   183.94|       1|337.22|\n",
            "|North America|United States|Central Discount ...|           Bikes| Mountain Bikes|        Mountain-100|Silver| 4/1/2020| 3,399.99| 2,039.99|       1|  NULL|\n",
            "|North America|United States|Leading Sales & R...|        Clothing|        Jerseys|Long-Sleeve Logo ...| Multi| 4/1/2020|    49.99|    28.84|       6|299.94|\n",
            "|North America|United States|        Paint Supply|      Components|Mountain Frames|   HL Mountain Frame| Black| 4/1/2020| 1,349.60|    714.7|       2|  NULL|\n",
            "|North America|United States|Scooters and Bike...|           Bikes|     Road Bikes|            Road-450|   Red| 4/1/2020| 1,457.99|   874.79|       2|  NULL|\n",
            "+-------------+-------------+--------------------+----------------+---------------+--------------------+------+---------+---------+---------+--------+------+\n",
            "only showing top 5 rows\n",
            "\n"
          ]
        }
      ]
    },
    {
      "cell_type": "code",
      "source": [
        "data = data.withColumn(\"Cost\", col(\"UnitPrice\") * col(\"OrderQty\"))\n",
        "data = data.withColumn(\"Profit\", col(\"Sales\") - col(\"Cost\"))\n"
      ],
      "metadata": {
        "id": "-N8PGi0hHipf"
      },
      "execution_count": null,
      "outputs": []
    },
    {
      "cell_type": "code",
      "source": [
        "data.show(5)"
      ],
      "metadata": {
        "colab": {
          "base_uri": "https://localhost:8080/"
        },
        "id": "L2af_0DIHim3",
        "outputId": "b8e33f8e-c263-477b-eb1a-4226c0362053"
      },
      "execution_count": null,
      "outputs": [
        {
          "output_type": "stream",
          "name": "stdout",
          "text": [
            "+-------------+-------------+--------------------+----------------+---------------+--------------------+------+---------+---------+---------+--------+------+-------+------------------+\n",
            "|       Region|      Country|            Customer|Business Segment|       Category|               Model| Color|SalesDate|ListPrice|UnitPrice|OrderQty| Sales|   Cost|            Profit|\n",
            "+-------------+-------------+--------------------+----------------+---------------+--------------------+------+---------+---------+---------+--------+------+-------+------------------+\n",
            "|North America|United States|Advanced Bike Com...|      Components|    Road Frames|       LL Road Frame|   Red| 4/1/2020|   337.22|   183.94|       1|337.22| 183.94|153.28000000000003|\n",
            "|North America|United States|Central Discount ...|           Bikes| Mountain Bikes|        Mountain-100|Silver| 4/1/2020| 3,399.99| 2,039.99|       1|  NULL|   NULL|              NULL|\n",
            "|North America|United States|Leading Sales & R...|        Clothing|        Jerseys|Long-Sleeve Logo ...| Multi| 4/1/2020|    49.99|    28.84|       6|299.94| 173.04|             126.9|\n",
            "|North America|United States|        Paint Supply|      Components|Mountain Frames|   HL Mountain Frame| Black| 4/1/2020| 1,349.60|    714.7|       2|  NULL| 1429.4|              NULL|\n",
            "|North America|United States|Scooters and Bike...|           Bikes|     Road Bikes|            Road-450|   Red| 4/1/2020| 1,457.99|   874.79|       2|  NULL|1749.58|              NULL|\n",
            "+-------------+-------------+--------------------+----------------+---------------+--------------------+------+---------+---------+---------+--------+------+-------+------------------+\n",
            "only showing top 5 rows\n",
            "\n"
          ]
        }
      ]
    },
    {
      "cell_type": "code",
      "source": [
        "order = spark.read.csv(\"/content/Orders_Data1.csv\",header = True)"
      ],
      "metadata": {
        "id": "p2kSsmbENl--"
      },
      "execution_count": null,
      "outputs": []
    },
    {
      "cell_type": "code",
      "source": [
        "order.show()"
      ],
      "metadata": {
        "id": "ZqQtCY5xNl7h",
        "colab": {
          "base_uri": "https://localhost:8080/"
        },
        "outputId": "4a0bb607-7f66-471f-9fe7-fdf4df7446b3"
      },
      "execution_count": null,
      "outputs": [
        {
          "output_type": "stream",
          "name": "stdout",
          "text": [
            "+---+----------+----+------+\n",
            "|OID|      Date|C_ID|Amount|\n",
            "+---+----------+----+------+\n",
            "|102| 10/8/2009|   3|  3000|\n",
            "|100| 10/8/2009|   3|  1500|\n",
            "|101|11/20/2009|   2|  1560|\n",
            "|103| 5/20/2008|   4|  2060|\n",
            "|199| 5/20/2008|NULL|  1253|\n",
            "+---+----------+----+------+\n",
            "\n"
          ]
        }
      ]
    },
    {
      "cell_type": "code",
      "source": [
        "cust = spark.read.csv(\"/content/Custumer_Data1.csv\",header = True)"
      ],
      "metadata": {
        "id": "pKxbDsJ8Nl5f"
      },
      "execution_count": null,
      "outputs": []
    },
    {
      "cell_type": "code",
      "source": [
        "cust.show()"
      ],
      "metadata": {
        "id": "Iem8-pZiNl4C",
        "colab": {
          "base_uri": "https://localhost:8080/"
        },
        "outputId": "5462d4c3-06b5-4788-9af1-8da3f00acd0c"
      },
      "execution_count": null,
      "outputs": [
        {
          "output_type": "stream",
          "name": "stdout",
          "text": [
            "+---+--------+---+----------+----------+\n",
            "| ID|    Name|Age|   Address|Wallet Bal|\n",
            "+---+--------+---+----------+----------+\n",
            "|  1|  Ramesh| 32|Ahmedabad |       200|\n",
            "|  2|  Khilan| 23|Delhi     |      7500|\n",
            "|  3| kaushik| 25|Kota      |     12000|\n",
            "|  4|Chaitali| 22|Mumbai    |      6500|\n",
            "|  5|  Hardik| 27|Bhopal    |       600|\n",
            "|  6|   Komal| 26|MP        |       750|\n",
            "|  7|   Muffy| 27|Indore    |       500|\n",
            "+---+--------+---+----------+----------+\n",
            "\n"
          ]
        }
      ]
    },
    {
      "cell_type": "code",
      "source": [
        "# Experiments with joins (inner,left,right,full,self)"
      ],
      "metadata": {
        "id": "9xPNNo9uNl0P"
      },
      "execution_count": null,
      "outputs": []
    },
    {
      "cell_type": "code",
      "source": [
        "# 1. only joins\n",
        "# 2. joins with selected columns\n",
        "# 3. joins with filters\n",
        "# 4. joins with selected columns and filters\n",
        "# 5. add on ---> sorting/renaming to above\n",
        "# Pandas -----> pd.merge(cust, order, left_on = \"ID\", right_on = \"C_ID\", how = \"inner\")"
      ],
      "metadata": {
        "id": "oz0Cshe5RPlU"
      },
      "execution_count": null,
      "outputs": []
    },
    {
      "cell_type": "code",
      "source": [
        "cust.join(order, cust['ID'] == order[\"C_ID\"], \"inner\").show()"
      ],
      "metadata": {
        "colab": {
          "base_uri": "https://localhost:8080/"
        },
        "id": "fUAqbnPQRPoy",
        "outputId": "40a25e8f-20aa-4f46-b0bd-fddd73596b0c"
      },
      "execution_count": null,
      "outputs": [
        {
          "output_type": "stream",
          "name": "stdout",
          "text": [
            "+---+--------+---+----------+----------+---+----------+----+------+\n",
            "| ID|    Name|Age|   Address|Wallet Bal|OID|      Date|C_ID|Amount|\n",
            "+---+--------+---+----------+----------+---+----------+----+------+\n",
            "|  2|  Khilan| 23|Delhi     |      7500|101|11/20/2009|   2|  1560|\n",
            "|  3| kaushik| 25|Kota      |     12000|100| 10/8/2009|   3|  1500|\n",
            "|  3| kaushik| 25|Kota      |     12000|102| 10/8/2009|   3|  3000|\n",
            "|  4|Chaitali| 22|Mumbai    |      6500|103| 5/20/2008|   4|  2060|\n",
            "+---+--------+---+----------+----------+---+----------+----+------+\n",
            "\n"
          ]
        }
      ]
    },
    {
      "cell_type": "code",
      "source": [
        "cust.join(order, cust['ID'] == order[\"C_ID\"], \"left\").show()"
      ],
      "metadata": {
        "colab": {
          "base_uri": "https://localhost:8080/"
        },
        "id": "JN6jdfvWRPur",
        "outputId": "261dc9cb-0f6d-4cbc-e11b-a30792578955"
      },
      "execution_count": null,
      "outputs": [
        {
          "output_type": "stream",
          "name": "stdout",
          "text": [
            "+---+--------+---+----------+----------+----+----------+----+------+\n",
            "| ID|    Name|Age|   Address|Wallet Bal| OID|      Date|C_ID|Amount|\n",
            "+---+--------+---+----------+----------+----+----------+----+------+\n",
            "|  1|  Ramesh| 32|Ahmedabad |       200|NULL|      NULL|NULL|  NULL|\n",
            "|  2|  Khilan| 23|Delhi     |      7500| 101|11/20/2009|   2|  1560|\n",
            "|  3| kaushik| 25|Kota      |     12000| 100| 10/8/2009|   3|  1500|\n",
            "|  3| kaushik| 25|Kota      |     12000| 102| 10/8/2009|   3|  3000|\n",
            "|  4|Chaitali| 22|Mumbai    |      6500| 103| 5/20/2008|   4|  2060|\n",
            "|  5|  Hardik| 27|Bhopal    |       600|NULL|      NULL|NULL|  NULL|\n",
            "|  6|   Komal| 26|MP        |       750|NULL|      NULL|NULL|  NULL|\n",
            "|  7|   Muffy| 27|Indore    |       500|NULL|      NULL|NULL|  NULL|\n",
            "+---+--------+---+----------+----------+----+----------+----+------+\n",
            "\n"
          ]
        }
      ]
    },
    {
      "cell_type": "code",
      "source": [
        "cust.join(order, cust['ID'] == order['C_ID'], \"left\").select(\"ID\",\"Name\",\"Address\",\"Date\").show()"
      ],
      "metadata": {
        "id": "SFJ1F-TSRPxa",
        "colab": {
          "base_uri": "https://localhost:8080/"
        },
        "outputId": "750de69d-930a-4938-a72f-c525a109c1c0"
      },
      "execution_count": null,
      "outputs": [
        {
          "output_type": "stream",
          "name": "stdout",
          "text": [
            "+---+--------+----------+----------+\n",
            "| ID|    Name|   Address|      Date|\n",
            "+---+--------+----------+----------+\n",
            "|  1|  Ramesh|Ahmedabad |      NULL|\n",
            "|  2|  Khilan|Delhi     |11/20/2009|\n",
            "|  3| kaushik|Kota      | 10/8/2009|\n",
            "|  3| kaushik|Kota      | 10/8/2009|\n",
            "|  4|Chaitali|Mumbai    | 5/20/2008|\n",
            "|  5|  Hardik|Bhopal    |      NULL|\n",
            "|  6|   Komal|MP        |      NULL|\n",
            "|  7|   Muffy|Indore    |      NULL|\n",
            "+---+--------+----------+----------+\n",
            "\n"
          ]
        }
      ]
    },
    {
      "cell_type": "code",
      "source": [
        "cust.join(order, cust['ID'] == order['C_ID'], \"Right\").show()"
      ],
      "metadata": {
        "id": "AD3n8S3dRP0Q",
        "colab": {
          "base_uri": "https://localhost:8080/"
        },
        "outputId": "a476da12-5977-4b0c-fa7b-bfdb9598c9c4"
      },
      "execution_count": null,
      "outputs": [
        {
          "output_type": "stream",
          "name": "stdout",
          "text": [
            "+----+--------+----+----------+----------+---+----------+----+------+\n",
            "|  ID|    Name| Age|   Address|Wallet Bal|OID|      Date|C_ID|Amount|\n",
            "+----+--------+----+----------+----------+---+----------+----+------+\n",
            "|   3| kaushik|  25|Kota      |     12000|102| 10/8/2009|   3|  3000|\n",
            "|   3| kaushik|  25|Kota      |     12000|100| 10/8/2009|   3|  1500|\n",
            "|   2|  Khilan|  23|Delhi     |      7500|101|11/20/2009|   2|  1560|\n",
            "|   4|Chaitali|  22|Mumbai    |      6500|103| 5/20/2008|   4|  2060|\n",
            "|NULL|    NULL|NULL|      NULL|      NULL|199| 5/20/2008|NULL|  1253|\n",
            "+----+--------+----+----------+----------+---+----------+----+------+\n",
            "\n"
          ]
        }
      ]
    },
    {
      "cell_type": "code",
      "source": [
        "cust.join(order, cust['ID'] == order['C_ID'], \"left\").select(cust[\"ID\"], cust[\"Name\"], cust[\"Address\"], order[\"Date\"]).show()"
      ],
      "metadata": {
        "id": "3hK13UI9RP3H",
        "colab": {
          "base_uri": "https://localhost:8080/"
        },
        "outputId": "d5db1476-ce97-49ae-ea4c-d16d171083c5"
      },
      "execution_count": null,
      "outputs": [
        {
          "output_type": "stream",
          "name": "stdout",
          "text": [
            "+---+--------+----------+----------+\n",
            "| ID|    Name|   Address|      Date|\n",
            "+---+--------+----------+----------+\n",
            "|  1|  Ramesh|Ahmedabad |      NULL|\n",
            "|  2|  Khilan|Delhi     |11/20/2009|\n",
            "|  3| kaushik|Kota      | 10/8/2009|\n",
            "|  3| kaushik|Kota      | 10/8/2009|\n",
            "|  4|Chaitali|Mumbai    | 5/20/2008|\n",
            "|  5|  Hardik|Bhopal    |      NULL|\n",
            "|  6|   Komal|MP        |      NULL|\n",
            "|  7|   Muffy|Indore    |      NULL|\n",
            "+---+--------+----------+----------+\n",
            "\n"
          ]
        }
      ]
    },
    {
      "cell_type": "code",
      "source": [
        "cust.join(order, cust['ID'] == order['C_ID'], \"left\").filter(col(\"Name\") == \"kaushik\").show()"
      ],
      "metadata": {
        "id": "usfK5BgkRP50",
        "colab": {
          "base_uri": "https://localhost:8080/"
        },
        "outputId": "66165a74-5ecd-4c6f-db20-dc001bc85c34"
      },
      "execution_count": null,
      "outputs": [
        {
          "output_type": "stream",
          "name": "stdout",
          "text": [
            "+---+-------+---+----------+----------+---+---------+----+------+\n",
            "| ID|   Name|Age|   Address|Wallet Bal|OID|     Date|C_ID|Amount|\n",
            "+---+-------+---+----------+----------+---+---------+----+------+\n",
            "|  3|kaushik| 25|Kota      |     12000|100|10/8/2009|   3|  1500|\n",
            "|  3|kaushik| 25|Kota      |     12000|102|10/8/2009|   3|  3000|\n",
            "+---+-------+---+----------+----------+---+---------+----+------+\n",
            "\n"
          ]
        }
      ]
    },
    {
      "cell_type": "code",
      "source": [
        "cust.join(order, cust[\"ID\"] == order[\"C_ID\"],\"left\").filter(col(\"Age\") == 22).show()"
      ],
      "metadata": {
        "id": "skHzqnPCRP8m",
        "colab": {
          "base_uri": "https://localhost:8080/"
        },
        "outputId": "db3a2b81-a634-4d43-a5fd-ae53d121ea35"
      },
      "execution_count": null,
      "outputs": [
        {
          "output_type": "stream",
          "name": "stdout",
          "text": [
            "+---+--------+---+----------+----------+---+---------+----+------+\n",
            "| ID|    Name|Age|   Address|Wallet Bal|OID|     Date|C_ID|Amount|\n",
            "+---+--------+---+----------+----------+---+---------+----+------+\n",
            "|  4|Chaitali| 22|Mumbai    |      6500|103|5/20/2008|   4|  2060|\n",
            "+---+--------+---+----------+----------+---+---------+----+------+\n",
            "\n"
          ]
        }
      ]
    },
    {
      "cell_type": "code",
      "source": [
        "cust.join(order, cust[\"ID\"] == order[\"C_ID\"], \"left\")\\\n",
        ".filter(col(\"Name\") == \"kaushik\")\\\n",
        ".select('ID','Name','Address','Date').show()"
      ],
      "metadata": {
        "id": "Stpj38j4RP_J",
        "colab": {
          "base_uri": "https://localhost:8080/"
        },
        "outputId": "fbb2c3a6-22c8-415f-d82f-7c0d0983fd5a"
      },
      "execution_count": null,
      "outputs": [
        {
          "output_type": "stream",
          "name": "stdout",
          "text": [
            "+---+-------+----------+---------+\n",
            "| ID|   Name|   Address|     Date|\n",
            "+---+-------+----------+---------+\n",
            "|  3|kaushik|Kota      |10/8/2009|\n",
            "|  3|kaushik|Kota      |10/8/2009|\n",
            "+---+-------+----------+---------+\n",
            "\n"
          ]
        }
      ]
    },
    {
      "cell_type": "code",
      "source": [
        "cust.join(order, cust[\"ID\"] == order[\"C_ID\"], \"left\")\\\n",
        ".select('ID','Name','Address','Wallet Bal')\\\n",
        ".orderBy(desc(\"Wallet Bal\")).show()"
      ],
      "metadata": {
        "id": "lkoElqyLRQCQ",
        "colab": {
          "base_uri": "https://localhost:8080/"
        },
        "outputId": "8345b36a-f956-40cf-8551-199d97b6d67c"
      },
      "execution_count": null,
      "outputs": [
        {
          "output_type": "stream",
          "name": "stdout",
          "text": [
            "+---+--------+----------+----------+\n",
            "| ID|    Name|   Address|Wallet Bal|\n",
            "+---+--------+----------+----------+\n",
            "|  2|  Khilan|Delhi     |      7500|\n",
            "|  6|   Komal|MP        |       750|\n",
            "|  4|Chaitali|Mumbai    |      6500|\n",
            "|  5|  Hardik|Bhopal    |       600|\n",
            "|  7|   Muffy|Indore    |       500|\n",
            "|  1|  Ramesh|Ahmedabad |       200|\n",
            "|  3| kaushik|Kota      |     12000|\n",
            "|  3| kaushik|Kota      |     12000|\n",
            "+---+--------+----------+----------+\n",
            "\n"
          ]
        }
      ]
    },
    {
      "cell_type": "code",
      "source": [
        "cust.join(order, cust[\"ID\"] == order[\"C_ID\"], \"left\")\\\n",
        ".select('ID','Name','Address','Wallet Bal')\\\n",
        ".orderBy(asc(\"Wallet Bal\")).show()"
      ],
      "metadata": {
        "id": "bhgkpkIaRQE7",
        "colab": {
          "base_uri": "https://localhost:8080/"
        },
        "outputId": "cd4b3d71-02a7-4fec-b537-e3f5ab1bf11e"
      },
      "execution_count": null,
      "outputs": [
        {
          "output_type": "stream",
          "name": "stdout",
          "text": [
            "+---+--------+----------+----------+\n",
            "| ID|    Name|   Address|Wallet Bal|\n",
            "+---+--------+----------+----------+\n",
            "|  3| kaushik|Kota      |     12000|\n",
            "|  3| kaushik|Kota      |     12000|\n",
            "|  1|  Ramesh|Ahmedabad |       200|\n",
            "|  7|   Muffy|Indore    |       500|\n",
            "|  5|  Hardik|Bhopal    |       600|\n",
            "|  4|Chaitali|Mumbai    |      6500|\n",
            "|  6|   Komal|MP        |       750|\n",
            "|  2|  Khilan|Delhi     |      7500|\n",
            "+---+--------+----------+----------+\n",
            "\n"
          ]
        }
      ]
    },
    {
      "cell_type": "code",
      "source": [
        "cust.join(order, cust[\"ID\"] == order[\"C_ID\"], \"left\")\\\n",
        ".select(\"ID\",\"Name\",\"Address\",col(\"Date\").alias(\"Order_date\"),col(\"Wallet Bal\").alias(\"Wall_bal\"))\\\n",
        ".orderBy(asc(\"Wallet Bal\")).show()"
      ],
      "metadata": {
        "id": "hNEXVhS6RQIw",
        "colab": {
          "base_uri": "https://localhost:8080/",
          "height": 176
        },
        "outputId": "9106c6f8-fdf3-4cfe-f93d-3b8cec3613e1"
      },
      "execution_count": null,
      "outputs": [
        {
          "output_type": "error",
          "ename": "NameError",
          "evalue": "name 'cust' is not defined",
          "traceback": [
            "\u001b[0;31m---------------------------------------------------------------------------\u001b[0m",
            "\u001b[0;31mNameError\u001b[0m                                 Traceback (most recent call last)",
            "\u001b[0;32m<ipython-input-6-675b15007975>\u001b[0m in \u001b[0;36m<cell line: 1>\u001b[0;34m()\u001b[0m\n\u001b[0;32m----> 1\u001b[0;31m \u001b[0mcust\u001b[0m\u001b[0;34m.\u001b[0m\u001b[0mjoin\u001b[0m\u001b[0;34m(\u001b[0m\u001b[0morder\u001b[0m\u001b[0;34m,\u001b[0m \u001b[0mcust\u001b[0m\u001b[0;34m[\u001b[0m\u001b[0;34m\"ID\"\u001b[0m\u001b[0;34m]\u001b[0m \u001b[0;34m==\u001b[0m \u001b[0morder\u001b[0m\u001b[0;34m[\u001b[0m\u001b[0;34m\"C_ID\"\u001b[0m\u001b[0;34m]\u001b[0m\u001b[0;34m,\u001b[0m \u001b[0;34m\"left\"\u001b[0m\u001b[0;34m)\u001b[0m\u001b[0;31m\\\u001b[0m\u001b[0;34m\u001b[0m\u001b[0;34m\u001b[0m\u001b[0m\n\u001b[0m\u001b[1;32m      2\u001b[0m \u001b[0;34m.\u001b[0m\u001b[0mselect\u001b[0m\u001b[0;34m(\u001b[0m\u001b[0;34m\"ID\"\u001b[0m\u001b[0;34m,\u001b[0m\u001b[0;34m\"Name\"\u001b[0m\u001b[0;34m,\u001b[0m\u001b[0;34m\"Address\"\u001b[0m\u001b[0;34m,\u001b[0m\u001b[0mcol\u001b[0m\u001b[0;34m(\u001b[0m\u001b[0;34m\"Date\"\u001b[0m\u001b[0;34m)\u001b[0m\u001b[0;34m.\u001b[0m\u001b[0malias\u001b[0m\u001b[0;34m(\u001b[0m\u001b[0;34m\"Order_date\"\u001b[0m\u001b[0;34m)\u001b[0m\u001b[0;34m,\u001b[0m\u001b[0mcol\u001b[0m\u001b[0;34m(\u001b[0m\u001b[0;34m\"Wallet Bal\"\u001b[0m\u001b[0;34m)\u001b[0m\u001b[0;34m.\u001b[0m\u001b[0malias\u001b[0m\u001b[0;34m(\u001b[0m\u001b[0;34m\"Wall_bal\"\u001b[0m\u001b[0;34m)\u001b[0m\u001b[0;34m)\u001b[0m\u001b[0;31m\\\u001b[0m\u001b[0;34m\u001b[0m\u001b[0;34m\u001b[0m\u001b[0m\n\u001b[1;32m      3\u001b[0m \u001b[0;34m.\u001b[0m\u001b[0morderBy\u001b[0m\u001b[0;34m(\u001b[0m\u001b[0masc\u001b[0m\u001b[0;34m(\u001b[0m\u001b[0;34m\"Wallet Bal\"\u001b[0m\u001b[0;34m)\u001b[0m\u001b[0;34m)\u001b[0m\u001b[0;34m.\u001b[0m\u001b[0mshow\u001b[0m\u001b[0;34m(\u001b[0m\u001b[0;34m)\u001b[0m\u001b[0;34m\u001b[0m\u001b[0;34m\u001b[0m\u001b[0m\n",
            "\u001b[0;31mNameError\u001b[0m: name 'cust' is not defined"
          ]
        }
      ]
    },
    {
      "cell_type": "code",
      "source": [
        "emp = spark.read.csv(\"/content/empcsvdata.csv\",header = True, inferSchema = True)"
      ],
      "metadata": {
        "id": "FPlGsuHbRQL0"
      },
      "execution_count": null,
      "outputs": []
    },
    {
      "cell_type": "code",
      "source": [
        "training = spark.read.csv(\"/content/Emp_Training_Datacsv.csv\",header = True, inferSchema = True)"
      ],
      "metadata": {
        "id": "9m3Y-WIARQNw"
      },
      "execution_count": null,
      "outputs": []
    },
    {
      "cell_type": "code",
      "source": [
        "emp.show(5)"
      ],
      "metadata": {
        "id": "aRDeJ3bPRQQX",
        "colab": {
          "base_uri": "https://localhost:8080/"
        },
        "outputId": "e3ad9fbc-119c-43ac-a8a3-2a08dfca0b20"
      },
      "execution_count": null,
      "outputs": [
        {
          "output_type": "stream",
          "name": "stdout",
          "text": [
            "+----------+----------+----------------+-------------+------+--------------+--------------+------+----------+\n",
            "|EmployeeID|Manager ID|           Title|MaritalStatus|Gender|      HireDate|          Dept|Salary| Job Grade|\n",
            "+----------+----------+----------------+-------------+------+--------------+--------------+------+----------+\n",
            "|         1|        16|  Gustavo Achong|            M|     M| 2/2/2013 0:00|         Sales|  2295|     Admin|\n",
            "|         2|        12|  Catherine Abel|            S|     M|8/31/2013 0:00|         Sales|   962|Management|\n",
            "|         3|         3| Kim Abercrombie|            M|     M|6/16/2014 0:00|       Finance|  4006|     Admin|\n",
            "|         4|         6|Humberto Acevedo|            S|     M|7/10/2014 0:00|     Logistics|  4547|     Admin|\n",
            "|         5|        56|  Pilar Ackerman|            M|     M|7/16/2014 0:00|Human Resource|  1932|     Admin|\n",
            "+----------+----------+----------------+-------------+------+--------------+--------------+------+----------+\n",
            "only showing top 5 rows\n",
            "\n"
          ]
        }
      ]
    },
    {
      "cell_type": "code",
      "source": [
        "training.show(5)"
      ],
      "metadata": {
        "id": "LmvP7hvQRQSX",
        "colab": {
          "base_uri": "https://localhost:8080/"
        },
        "outputId": "42946ffc-e09d-4ede-ff53-9a4177ae3291"
      },
      "execution_count": null,
      "outputs": [
        {
          "output_type": "stream",
          "name": "stdout",
          "text": [
            "+----------+-----------+--------------------+-----------+----+--------------------+\n",
            "|Start Date|Course Code|         Course Name|Employee ID|Cost|            Supplier|\n",
            "+----------+-----------+--------------------+-----------+----+--------------------+\n",
            "| 9/18/2015|          1|Communication Wor...|          1|1300|Communication Exp...|\n",
            "| 9/18/2015|          1|Communication Wor...|          4|1300|Communication Exp...|\n",
            "| 9/18/2015|          1|Communication Wor...|         25|1300|Communication Exp...|\n",
            "| 9/18/2015|          1|Communication Wor...|         33|1300|Communication Exp...|\n",
            "| 9/18/2015|          1|Communication Wor...|         44|1300|Communication Exp...|\n",
            "+----------+-----------+--------------------+-----------+----+--------------------+\n",
            "only showing top 5 rows\n",
            "\n"
          ]
        }
      ]
    },
    {
      "cell_type": "code",
      "source": [
        "emp.join(training, emp[\"EmployeeID\"] == training[\"Employee ID\"], \"inner\")\\\n",
        ".groupBy(\"Title\")\\\n",
        ".agg(count(\"Course Code\").alias(\"Total_courses\"))\\\n",
        ".orderBy(desc(\"Total_courses\"))\\\n",
        ".show(6)"
      ],
      "metadata": {
        "id": "FOJO5plBRQUw",
        "colab": {
          "base_uri": "https://localhost:8080/"
        },
        "outputId": "91a65328-e09f-40a3-b2d2-8c63fd7bfba6"
      },
      "execution_count": null,
      "outputs": [
        {
          "output_type": "stream",
          "name": "stdout",
          "text": [
            "+----------------+-------------+\n",
            "|           Title|Total_courses|\n",
            "+----------------+-------------+\n",
            "|   James Aguilar|           27|\n",
            "|François Ferrier|           19|\n",
            "|   Cecil Allison|           18|\n",
            "|  Maxwell Amland|           16|\n",
            "|       John Ault|           14|\n",
            "|  Kyley Arbelaez|           14|\n",
            "+----------------+-------------+\n",
            "only showing top 6 rows\n",
            "\n"
          ]
        }
      ]
    },
    {
      "cell_type": "code",
      "source": [
        "emp.join(training, emp[\"EmployeeID\"] == training[\"Employee ID\"], \"inner\")\\\n",
        ".groupBy(\"Title\")\\\n",
        ".agg(sum(\"Cost\").alias(\"Total_Cost\"))\\\n",
        ".orderBy(desc(\"Total_Cost\"))\\\n",
        ".show(6)"
      ],
      "metadata": {
        "id": "Fn92SsreRQXC",
        "colab": {
          "base_uri": "https://localhost:8080/"
        },
        "outputId": "9b040bb9-c882-4b4e-85d5-3495dc707601"
      },
      "execution_count": null,
      "outputs": [
        {
          "output_type": "stream",
          "name": "stdout",
          "text": [
            "+----------------+----------+\n",
            "|           Title|Total_Cost|\n",
            "+----------------+----------+\n",
            "|   James Aguilar|     47850|\n",
            "|François Ferrier|     38150|\n",
            "|   Cecil Allison|     36000|\n",
            "|   Frances Adams|     31500|\n",
            "|Gregory Alderson|     29400|\n",
            "|  Kyley Arbelaez|     29300|\n",
            "+----------------+----------+\n",
            "only showing top 6 rows\n",
            "\n"
          ]
        }
      ]
    },
    {
      "cell_type": "code",
      "source": [
        "emp.join(training, emp[\"EmployeeID\"] == training[\"Employee ID\"], \"inner\")\\\n",
        ".groupBy(\"Title\")\\\n",
        ".agg(sum(\"Cost\").alias(\"Total_Cost\"))\\\n",
        ".filter(col(\"Total_Cost\") > 30000)\\\n",
        ".orderBy(desc(\"Total_Cost\"))\\\n",
        ".show(6)"
      ],
      "metadata": {
        "id": "VsIQ1IJPRQaT",
        "colab": {
          "base_uri": "https://localhost:8080/"
        },
        "outputId": "fcd85ad6-68f9-4c2e-ee0e-0f88c9978339"
      },
      "execution_count": null,
      "outputs": [
        {
          "output_type": "stream",
          "name": "stdout",
          "text": [
            "+----------------+----------+\n",
            "|           Title|Total_Cost|\n",
            "+----------------+----------+\n",
            "|   James Aguilar|     47850|\n",
            "|François Ferrier|     38150|\n",
            "|   Cecil Allison|     36000|\n",
            "|   Frances Adams|     31500|\n",
            "+----------------+----------+\n",
            "\n"
          ]
        }
      ]
    },
    {
      "cell_type": "code",
      "source": [
        "df = emp.join(training, emp[\"EmployeeID\"] == training[\"Employee ID\"], \"inner\")"
      ],
      "metadata": {
        "id": "_D9bjPc8RQou"
      },
      "execution_count": null,
      "outputs": []
    },
    {
      "cell_type": "code",
      "source": [
        "df.groupBy(\"Title\")\\\n",
        ".agg(sum(\"Cost\").alias(\"Total_Cost\"))\\\n",
        ".filter(col(\"Total_Cost\") > 30000)\\\n",
        ".orderBy(desc(\"Total_Cost\"))\\\n",
        ".show(6)"
      ],
      "metadata": {
        "id": "1IjtK9XXRQsO",
        "colab": {
          "base_uri": "https://localhost:8080/"
        },
        "outputId": "06c1bc2d-a8f1-40ce-9aed-31572c26c41e"
      },
      "execution_count": null,
      "outputs": [
        {
          "output_type": "stream",
          "name": "stdout",
          "text": [
            "+----------------+----------+\n",
            "|           Title|Total_Cost|\n",
            "+----------------+----------+\n",
            "|   James Aguilar|     47850|\n",
            "|François Ferrier|     38150|\n",
            "|   Cecil Allison|     36000|\n",
            "|   Frances Adams|     31500|\n",
            "+----------------+----------+\n",
            "\n"
          ]
        }
      ]
    },
    {
      "cell_type": "code",
      "source": [
        "# inner join"
      ],
      "metadata": {
        "id": "141Om05bRQvS"
      },
      "execution_count": null,
      "outputs": []
    },
    {
      "cell_type": "code",
      "source": [
        "emp.show(6)"
      ],
      "metadata": {
        "id": "lPvaFMb-RQyd",
        "colab": {
          "base_uri": "https://localhost:8080/"
        },
        "outputId": "fd7081ff-9195-414d-c7d2-0b431572a3b9"
      },
      "execution_count": null,
      "outputs": [
        {
          "output_type": "stream",
          "name": "stdout",
          "text": [
            "+----------+----------+----------------+-------------+------+--------------+--------------+------+----------+\n",
            "|EmployeeID|Manager ID|           Title|MaritalStatus|Gender|      HireDate|          Dept|Salary| Job Grade|\n",
            "+----------+----------+----------------+-------------+------+--------------+--------------+------+----------+\n",
            "|         1|        16|  Gustavo Achong|            M|     M| 2/2/2013 0:00|         Sales|  2295|     Admin|\n",
            "|         2|        12|  Catherine Abel|            S|     M|8/31/2013 0:00|         Sales|   962|Management|\n",
            "|         3|         3| Kim Abercrombie|            M|     M|6/16/2014 0:00|       Finance|  4006|     Admin|\n",
            "|         4|         6|Humberto Acevedo|            S|     M|7/10/2014 0:00|     Logistics|  4547|     Admin|\n",
            "|         5|        56|  Pilar Ackerman|            M|     M|7/16/2014 0:00|Human Resource|  1932|     Admin|\n",
            "|         6|         3|   Frances Adams|            S|     M|7/25/2014 0:00|         Sales|  NULL|Management|\n",
            "+----------+----------+----------------+-------------+------+--------------+--------------+------+----------+\n",
            "only showing top 6 rows\n",
            "\n"
          ]
        }
      ]
    },
    {
      "cell_type": "code",
      "source": [
        "emp.alias('emp').join(emp.alias('mgr'), col('emp.Manager ID') == col('mgr.EmployeeID'), 'left')\\\n",
        ".select(col(\"emp.Title\").alias(\"EmployeeName\"), col(\"mgr.Title\").alias(\"ManagerName\"))\\\n",
        ".show(5)"
      ],
      "metadata": {
        "id": "WuIhhoJtRQ1d",
        "colab": {
          "base_uri": "https://localhost:8080/"
        },
        "outputId": "28a49eb0-1a22-4d39-adc4-988d1c9f6caa"
      },
      "execution_count": null,
      "outputs": [
        {
          "output_type": "stream",
          "name": "stdout",
          "text": [
            "+----------------+---------------+\n",
            "|    EmployeeName|    ManagerName|\n",
            "+----------------+---------------+\n",
            "|  Gustavo Achong|   Lili Alameda|\n",
            "|  Catherine Abel|  James Aguilar|\n",
            "| Kim Abercrombie|Kim Abercrombie|\n",
            "|Humberto Acevedo|  Frances Adams|\n",
            "|  Pilar Ackerman|           NULL|\n",
            "+----------------+---------------+\n",
            "only showing top 5 rows\n",
            "\n"
          ]
        }
      ]
    },
    {
      "cell_type": "code",
      "source": [],
      "metadata": {
        "id": "YbYLkCJSRQ3W"
      },
      "execution_count": null,
      "outputs": []
    },
    {
      "cell_type": "code",
      "source": [],
      "metadata": {
        "id": "N-7MioEIRQ6c"
      },
      "execution_count": null,
      "outputs": []
    },
    {
      "cell_type": "code",
      "source": [],
      "metadata": {
        "id": "JbQaC8BgRQ9N"
      },
      "execution_count": null,
      "outputs": []
    },
    {
      "cell_type": "code",
      "source": [],
      "metadata": {
        "id": "UvM2EpLHRQ_a"
      },
      "execution_count": null,
      "outputs": []
    },
    {
      "cell_type": "code",
      "source": [],
      "metadata": {
        "id": "Ly-04zm7RRBz"
      },
      "execution_count": null,
      "outputs": []
    },
    {
      "cell_type": "code",
      "source": [],
      "metadata": {
        "id": "qUeRDrS_RREK"
      },
      "execution_count": null,
      "outputs": []
    },
    {
      "cell_type": "code",
      "source": [],
      "metadata": {
        "id": "PXtr5_8JNlx5"
      },
      "execution_count": null,
      "outputs": []
    },
    {
      "cell_type": "code",
      "source": [],
      "metadata": {
        "id": "X3ziWh6XNlvy"
      },
      "execution_count": null,
      "outputs": []
    },
    {
      "cell_type": "code",
      "source": [],
      "metadata": {
        "id": "Xj9PRrxdNlsP"
      },
      "execution_count": null,
      "outputs": []
    },
    {
      "cell_type": "code",
      "source": [],
      "metadata": {
        "id": "7E4X4C80Nlp_"
      },
      "execution_count": null,
      "outputs": []
    },
    {
      "cell_type": "code",
      "source": [],
      "metadata": {
        "id": "XFRk0yUaHikU"
      },
      "execution_count": null,
      "outputs": []
    },
    {
      "cell_type": "code",
      "source": [],
      "metadata": {
        "id": "AbCeJ7t7HiVb"
      },
      "execution_count": null,
      "outputs": []
    },
    {
      "cell_type": "code",
      "source": [],
      "metadata": {
        "id": "exhs8CJxSW3W"
      },
      "execution_count": null,
      "outputs": []
    },
    {
      "cell_type": "code",
      "source": [],
      "metadata": {
        "id": "ZZEqNnHtSW1R"
      },
      "execution_count": null,
      "outputs": []
    },
    {
      "cell_type": "code",
      "source": [],
      "metadata": {
        "id": "YH-cGNoCSWyt"
      },
      "execution_count": null,
      "outputs": []
    },
    {
      "cell_type": "code",
      "source": [],
      "metadata": {
        "id": "pjUKPAbESWwv"
      },
      "execution_count": null,
      "outputs": []
    },
    {
      "cell_type": "code",
      "source": [],
      "metadata": {
        "id": "0DGSb0_HSWuM"
      },
      "execution_count": null,
      "outputs": []
    },
    {
      "cell_type": "code",
      "source": [],
      "metadata": {
        "id": "VUu3ec1BSWr0"
      },
      "execution_count": null,
      "outputs": []
    },
    {
      "cell_type": "code",
      "source": [],
      "metadata": {
        "id": "pyC5imOySWpv"
      },
      "execution_count": null,
      "outputs": []
    },
    {
      "cell_type": "code",
      "source": [],
      "metadata": {
        "id": "VPgx6YvCSWnY"
      },
      "execution_count": null,
      "outputs": []
    },
    {
      "cell_type": "code",
      "source": [],
      "metadata": {
        "id": "M-6nDyphSWlT"
      },
      "execution_count": null,
      "outputs": []
    },
    {
      "cell_type": "code",
      "source": [],
      "metadata": {
        "id": "WFgxBInmSWjP"
      },
      "execution_count": null,
      "outputs": []
    },
    {
      "cell_type": "code",
      "source": [],
      "metadata": {
        "id": "jD9NqPtzSWg2"
      },
      "execution_count": null,
      "outputs": []
    },
    {
      "cell_type": "code",
      "source": [],
      "metadata": {
        "id": "KAK0AENjSWep"
      },
      "execution_count": null,
      "outputs": []
    },
    {
      "cell_type": "code",
      "source": [],
      "metadata": {
        "id": "6FccTBsxSWca"
      },
      "execution_count": null,
      "outputs": []
    },
    {
      "cell_type": "code",
      "source": [],
      "metadata": {
        "id": "67FEnJa5SWZ2"
      },
      "execution_count": null,
      "outputs": []
    },
    {
      "cell_type": "code",
      "source": [],
      "metadata": {
        "id": "lgQu3FJeSWXj"
      },
      "execution_count": null,
      "outputs": []
    },
    {
      "cell_type": "code",
      "source": [],
      "metadata": {
        "id": "LPTv2cuHSWVW"
      },
      "execution_count": null,
      "outputs": []
    },
    {
      "cell_type": "code",
      "source": [],
      "metadata": {
        "id": "KYu382BISWSx"
      },
      "execution_count": null,
      "outputs": []
    },
    {
      "cell_type": "code",
      "source": [],
      "metadata": {
        "id": "_gGZ_8ulSWQy"
      },
      "execution_count": null,
      "outputs": []
    },
    {
      "cell_type": "code",
      "source": [],
      "metadata": {
        "id": "3xU5xf-ySWN2"
      },
      "execution_count": null,
      "outputs": []
    },
    {
      "cell_type": "code",
      "source": [],
      "metadata": {
        "id": "JhqWI5HPSWLv"
      },
      "execution_count": null,
      "outputs": []
    },
    {
      "cell_type": "code",
      "source": [],
      "metadata": {
        "id": "XrLgVc5tSWHh"
      },
      "execution_count": null,
      "outputs": []
    },
    {
      "cell_type": "code",
      "source": [],
      "metadata": {
        "id": "41M7V5fESWED"
      },
      "execution_count": null,
      "outputs": []
    },
    {
      "cell_type": "code",
      "source": [],
      "metadata": {
        "id": "ei5B8rFySWBi"
      },
      "execution_count": null,
      "outputs": []
    }
  ]
}